{
 "cells": [
  {
   "cell_type": "code",
   "execution_count": null,
   "id": "0fa88b2d-c7d1-440e-8a7b-e2d7b22e971e",
   "metadata": {},
   "outputs": [],
   "source": [
    "import numpy as np\n",
    "import xarray as xr\n",
    "import os\n",
    "import glob\n",
    "from pathlib import Path \n",
    "import pathlib\n",
    "from pprint import pprint\n",
    "import matplotlib.pyplot as plt\n",
    "import time\n",
    "import requests\n",
    "import s3fs\n",
    "from os.path import dirname, join\n",
    "import datetime\n",
    "import myDate\n",
    "import netCDF4\n",
    "from scipy.interpolate import griddata\n",
    "\n",
    "import cartopy.crs as ccrs\n",
    "import cartopy.feature as cfeature"
   ]
  },
  {
   "cell_type": "code",
   "execution_count": null,
   "id": "30de50f5-ebdd-4bd4-85fa-c8a55fec5de8",
   "metadata": {
    "tags": []
   },
   "outputs": [],
   "source": [
    "alongtrack_file_dir = Path('/home/jovyan/Data/ECCO_GMSL/ECCO_V4r4_alongtrack_output/')\n",
    "grids_file_dir = Path('/home/jovyan/Data/ECCO_GMSL/gridding_output/')\n",
    "main_dir = Path('/home/jovyan/ECCO_GMSL/')\n",
    "output_dir = Path('/home/jovyan/Data/ECCO_GMSL/gridding_3x1_output/')\n",
    "output_dir2 = Path('/home/jovyan/Data/ECCO_GMSL/GMSL/')\n",
    "fig_dir = Path('/home/jovyan/Figures/ECCO_GMSL/test_3x1_mapsdiff/')"
   ]
  },
  {
   "cell_type": "code",
   "execution_count": null,
   "id": "d3a79a88-50ff-47fe-a05d-14f1f16f7384",
   "metadata": {
    "tags": []
   },
   "outputs": [],
   "source": [
    "#GMSL from synthetic grids\n",
    "gmsl_grids = xr.open_dataset(str(output_dir2) + '/GMSL_grids_19922017_noerror_100points.nc')\n",
    "gmsl_grids_3errors_2cm = xr.open_dataset(str(output_dir2) + '/GMSL_grids_19922017_3errors_2cm_100points.nc')\n",
    "\n",
    "#GMSL from synthetic 3x1 grids\n",
    "gmsl_grids_3x1_3errors_2cm = xr.open_dataset(str(output_dir2) + '/GMSL_grids_3x1_3errors_2cm.nc')\n",
    "gmsl_grids_3x1 = xr.open_dataset(str(output_dir2) + '/GMSL_grids_3x1.nc')\n",
    "gmsl_grids_3x1_old = xr.open_dataset(str(output_dir2) + '/GMSL_grids_3x1_old.nc')\n",
    "\n",
    "#GMSL from ECCO\n",
    "ECCO_global_mean_sea_level = xr.open_dataset(str(output_dir2) + '/GMSL_ECCO_dailyfiles_19922017.nc')"
   ]
  },
  {
   "cell_type": "code",
   "execution_count": null,
   "id": "3f35264d-bbd1-4170-81da-bcc5e5894fa4",
   "metadata": {},
   "outputs": [],
   "source": [
    "latgrid=np.arange(-90,90,1)\n",
    "longrid=np.arange(-180,180,3)\n",
    "[LOgrid,LAgrid] = np.meshgrid(longrid,latgrid)"
   ]
  },
  {
   "cell_type": "code",
   "execution_count": null,
   "id": "60ff5410-1252-4fba-a30a-8bb264bbf11a",
   "metadata": {
    "tags": []
   },
   "outputs": [],
   "source": [
    "fig,ax=plt.subplots(figsize=(10,5))\n",
    "(gmsl_grids.gmsl_grids*100-gmsl_grids_3x1_old.gmsl_grids_3x1*100).plot(label='grids-grids 3x1 old');\n",
    "(gmsl_grids.gmsl_grids*100-gmsl_grids_3x1.gmsl_grids_3x1*100).plot(label='grids-grids 3x1');\n",
    "plt.grid()\n",
    "plt.ylabel('(cm)',fontsize=18)\n",
    "plt.xlabel('')\n",
    "plt.tick_params(axis='both', which='major', labelsize=18)\n",
    "fig.suptitle('GMSL simulated grids - grids 3x1 (missing data+random noise+orbit error)', fontsize=16)\n",
    "plt.legend(ncol=1, loc='lower left',fontsize=12)\n",
    "fig.subplots_adjust(left=0.13,top=0.93,bottom=0.15,right=0.97)"
   ]
  },
  {
   "cell_type": "code",
   "execution_count": null,
   "id": "d42b1dd8-fd22-40d1-9a03-000b5bf0c3c3",
   "metadata": {
    "tags": []
   },
   "outputs": [],
   "source": [
    "fig,ax=plt.subplots(figsize=(10,5))\n",
    "(gmsl_grids.gmsl_grids*100-ECCO_global_mean_sea_level.gmsl_ecco*100).plot(label='grids-ECCO');\n",
    "(gmsl_grids_3x1_old.gmsl_grids_3x1*100-ECCO_global_mean_sea_level.gmsl_ecco*100).plot(label='grids 3x1-ECCO old');\n",
    "(gmsl_grids_3x1.gmsl_grids_3x1*100-ECCO_global_mean_sea_level.gmsl_ecco*100).plot(label='grids 3x1-ECCO');\n",
    "plt.grid()\n",
    "plt.ylabel('(cm)',fontsize=18)\n",
    "plt.xlabel('')\n",
    "plt.tick_params(axis='both', which='major', labelsize=18)\n",
    "fig.suptitle('GMSL simulated grids or grids 3x1 - ECCO', fontsize=16)\n",
    "plt.legend(ncol=2, loc='lower right',fontsize=12)\n",
    "fig.subplots_adjust(left=0.13,top=0.93,bottom=0.15,right=0.97)"
   ]
  },
  {
   "cell_type": "markdown",
   "id": "13a040ca-d5c5-4a5f-80d7-807087da6ce4",
   "metadata": {},
   "source": [
    "### Spatial trends of grids/grids 3x1 - ECCO"
   ]
  },
  {
   "cell_type": "code",
   "execution_count": null,
   "id": "c8b6ba71-be5d-459f-9c45-045d141d8dd6",
   "metadata": {},
   "outputs": [],
   "source": [
    "# grids_files = list(ecco_file_dir.glob('*SSHA_gridded_*nc'))\n",
    "# grids_files=np.sort(grids_files)\n",
    "# print(grids_files[0:5])\n",
    "# print('...')\n",
    "# print(grids_files[-5:])"
   ]
  },
  {
   "cell_type": "markdown",
   "id": "19550379-48b9-45c2-9b2f-27a40a8a3b4b",
   "metadata": {
    "tags": []
   },
   "source": [
    "### Spatial trends of grids-grids 3x1"
   ]
  },
  {
   "cell_type": "code",
   "execution_count": null,
   "id": "c9a96d5d-f938-4d4f-b735-55093472c98e",
   "metadata": {
    "tags": []
   },
   "outputs": [],
   "source": [
    "grids_files = list(grids_file_dir.glob('*SSHA_gridded_*nc'))\n",
    "grids_files=np.sort(grids_files)\n",
    "print(grids_files[0:5])\n",
    "print('...')\n",
    "print(grids_files[-5:])"
   ]
  },
  {
   "cell_type": "code",
   "execution_count": null,
   "id": "1f7b6044-862b-4dfb-8b12-7450f37ccba8",
   "metadata": {
    "tags": []
   },
   "outputs": [],
   "source": [
    "grids = xr.open_mfdataset(\n",
    "        paths=grids_files,\n",
    "        combine='nested',\n",
    "        concat_dim='time',\n",
    "        decode_cf=True,\n",
    "        compat='override',\n",
    "        coords='minimal',\n",
    "        chunks={'time': 1}  \n",
    "    )   \n",
    "grids"
   ]
  },
  {
   "cell_type": "code",
   "execution_count": null,
   "id": "b30d9729-5936-4a29-bc85-45d2e5155183",
   "metadata": {
    "tags": []
   },
   "outputs": [],
   "source": [
    "[LO,LA]=np.meshgrid(grids.longitude,grids.latitude)\n",
    "[LOgrid,LAgrid]=np.meshgrid(longrid,latgrid)\n",
    "LOgrid = np.reshape(LOgrid,np.prod(LOgrid.shape))\n",
    "LAgrid = np.reshape(LAgrid,np.prod(LAgrid.shape))\n",
    "LO = np.reshape(LO,np.prod(LO.shape))\n",
    "LA = np.reshape(LA,np.prod(LA.shape))\n",
    "grids_regrid=[]\n",
    "for i in range(0,grids.SSHA.shape[0]):\n",
    "    data = np.reshape(grids.SSHA[i,:,:].values,np.prod(grids.SSHA[i,:,:].shape))\n",
    "    grids_regrid_tmp = griddata((LO,LA), data, (LOgrid, LAgrid), method='nearest')\n",
    "    grids_regrid_tmp = np.reshape(grids_regrid_tmp,(1,len(latgrid),len(longrid)))\n",
    "    try:\n",
    "        grids_regrid=np.vstack((grids_regrid,grids_regrid_tmp))\n",
    "    except:\n",
    "        grids_regrid=grids_regrid_tmp"
   ]
  },
  {
   "cell_type": "code",
   "execution_count": null,
   "id": "4b8f88cc-67d8-46f7-847d-dfd54f1cf8c3",
   "metadata": {},
   "outputs": [],
   "source": [
    "grids_regrid = xr.DataArray(grids_regrid, dims=['time','lat','lon'])\n",
    "grids_regrid = grids_regrid.assign_coords({'lon':longrid,'lat':latgrid})\n",
    "grids_regrid.name = 'SSHA'\n",
    "grids_regrid.attrs['units'] = 'm'\n",
    "grids_regrid['time']=grids.time\n",
    "grids_regrid"
   ]
  },
  {
   "cell_type": "code",
   "execution_count": null,
   "id": "aae1405e-8468-4610-9bdd-3aadb1527dad",
   "metadata": {
    "tags": []
   },
   "outputs": [],
   "source": [
    "fig = plt.figure(figsize=(15,5))\n",
    "cm = plt.get_cmap('gist_rainbow')\n",
    "ax=fig.gca()\n",
    "\n",
    "ax = plt.axes(projection=ccrs.Robinson(central_longitude=-67, globe=None))\n",
    "ax.gridlines()\n",
    "ax.add_feature(cfeature.LAND)\n",
    "ax.add_feature(cfeature.COASTLINE)\n",
    "\n",
    "p=ax.pcolor(longrid,latgrid,grids_regrid[1,:,:].squeeze(),transform=ccrs.PlateCarree(),vmin=-0.2,vmax=0.2, cmap='jet')\n",
    "h=plt.colorbar(p)"
   ]
  },
  {
   "cell_type": "code",
   "execution_count": null,
   "id": "0336a7d6-c739-40a9-a3b9-8059dfe95283",
   "metadata": {
    "tags": []
   },
   "outputs": [],
   "source": [
    "fig = plt.figure(figsize=(15,5))\n",
    "cm = plt.get_cmap('gist_rainbow')\n",
    "ax=fig.gca()\n",
    "\n",
    "ax = plt.axes(projection=ccrs.Robinson(central_longitude=-67, globe=None))\n",
    "ax.gridlines()\n",
    "ax.add_feature(cfeature.LAND)\n",
    "ax.add_feature(cfeature.COASTLINE)\n",
    "\n",
    "p=ax.pcolor(grids.longitude,grids.latitude,grids.SSHA[1,:,:],transform=ccrs.PlateCarree(),vmin=-0.2,vmax=0.2, cmap='jet')\n",
    "h=plt.colorbar(p)"
   ]
  },
  {
   "cell_type": "code",
   "execution_count": null,
   "id": "25c32a0f-f555-4f0e-a4a4-8915f188f2a1",
   "metadata": {
    "tags": []
   },
   "outputs": [],
   "source": [
    "grids_files_3x1 = list(output_dir.glob('*SSHA_gridded_3x1_*nc'))\n",
    "grids_files_3x1=np.sort(grids_files_3x1)\n",
    "print(grids_files_3x1[0:5])\n",
    "print('...')\n",
    "print(grids_files_3x1[-5:])"
   ]
  },
  {
   "cell_type": "code",
   "execution_count": null,
   "id": "31dff763-f608-4fd0-895d-af72abc461c8",
   "metadata": {
    "tags": []
   },
   "outputs": [],
   "source": [
    "grids_3x1 = xr.open_mfdataset(\n",
    "        paths=grids_files_3x1,\n",
    "        combine='nested',\n",
    "        concat_dim='time',\n",
    "        decode_cf=True,\n",
    "        compat='override',\n",
    "        coords='minimal',\n",
    "        chunks={'time': 1}  \n",
    "    )   \n",
    "grids_3x1"
   ]
  },
  {
   "cell_type": "code",
   "execution_count": null,
   "id": "30d76803-bded-44e4-90c2-7c4aba396624",
   "metadata": {
    "tags": []
   },
   "outputs": [],
   "source": [
    "fig = plt.figure(figsize=(15,5))\n",
    "cm = plt.get_cmap('gist_rainbow')\n",
    "ax=fig.gca()\n",
    "\n",
    "ax = plt.axes(projection=ccrs.Robinson(central_longitude=-67, globe=None))\n",
    "ax.gridlines()\n",
    "ax.add_feature(cfeature.LAND)\n",
    "ax.add_feature(cfeature.COASTLINE)\n",
    "\n",
    "p=ax.pcolor(longrid,latgrid,grids_3x1.SSHA[1,:,:].squeeze(),transform=ccrs.PlateCarree(),vmin=-0.2,vmax=0.2, cmap='jet')\n",
    "h=plt.colorbar(p)"
   ]
  },
  {
   "cell_type": "code",
   "execution_count": null,
   "id": "69b1234b-0de1-4bb0-ad56-0e0accb16f74",
   "metadata": {
    "tags": []
   },
   "outputs": [],
   "source": [
    "diff=(grids_regrid-grids_3x1.SSHA)\n",
    "diff"
   ]
  },
  {
   "cell_type": "code",
   "execution_count": null,
   "id": "5a101a1b-6857-4788-8b2c-9dd2837351ad",
   "metadata": {
    "tags": []
   },
   "outputs": [],
   "source": [
    "diff_aft2008=diff.sel(time=slice('2012-01-01','2017-12-31'))\n",
    "diff_bef2008=diff.sel(time=slice('1992-01-01','2011-12-31'))"
   ]
  },
  {
   "cell_type": "code",
   "execution_count": null,
   "id": "138fe61d-b081-4a36-a082-2216db6d588e",
   "metadata": {
    "tags": []
   },
   "outputs": [],
   "source": [
    "for i in range(0,len(diff.time)):\n",
    "    fig = plt.figure(figsize=(15,5))\n",
    "    cm = plt.get_cmap('gist_rainbow')\n",
    "    ax=fig.gca()\n",
    "\n",
    "    ax = plt.axes(projection=ccrs.Robinson(central_longitude=-67, globe=None))\n",
    "    ax.gridlines()\n",
    "    ax.add_feature(cfeature.LAND)\n",
    "    ax.add_feature(cfeature.COASTLINE)\n",
    "    fig.suptitle(str(diff.time[i].values))\n",
    "\n",
    "    p=ax.pcolor(longrid,latgrid,diff[i,:,:].squeeze(),transform=ccrs.PlateCarree(),vmin=-0.03,vmax=0.03, cmap='jet')\n",
    "    h=plt.colorbar(p)\n",
    "    plt.savefig(str(fig_dir)+'/diff_grids_3x1_'+str(i).zfill(3)+'.png',dpi=70,transparent=False,facecolor='white')"
   ]
  },
  {
   "cell_type": "code",
   "execution_count": null,
   "id": "aa08c466-ea7f-41df-94ae-449c5594c542",
   "metadata": {
    "tags": []
   },
   "outputs": [],
   "source": [
    "fig = plt.figure(figsize=(15,5))\n",
    "cm = plt.get_cmap('gist_rainbow')\n",
    "ax=fig.gca()\n",
    "\n",
    "ax = plt.axes(projection=ccrs.Robinson(central_longitude=-67, globe=None))\n",
    "ax.gridlines()\n",
    "ax.add_feature(cfeature.LAND)\n",
    "ax.add_feature(cfeature.COASTLINE)\n",
    "\n",
    "p=ax.pcolor(diff.lon,diff.lat,diff.mean(dim='time'),transform=ccrs.PlateCarree(),vmin=-0.002,vmax=0.002, cmap='jet')\n",
    "h=plt.colorbar(p)"
   ]
  },
  {
   "cell_type": "code",
   "execution_count": null,
   "id": "e941aec3-1946-4a61-9caa-8f94a98255d0",
   "metadata": {
    "tags": []
   },
   "outputs": [],
   "source": [
    "fig = plt.figure(figsize=(15,5))\n",
    "cm = plt.get_cmap('gist_rainbow')\n",
    "ax=fig.gca()\n",
    "\n",
    "ax = plt.axes(projection=ccrs.Robinson(central_longitude=-67, globe=None))\n",
    "ax.gridlines()\n",
    "ax.add_feature(cfeature.LAND)\n",
    "ax.add_feature(cfeature.COASTLINE)\n",
    "\n",
    "p=ax.pcolor(diff.lon,diff.lat,diff_aft2008.mean(dim='time')*1000,transform=ccrs.PlateCarree(),vmin=-10,vmax=10, cmap='jet')\n",
    "h=plt.colorbar(p)"
   ]
  },
  {
   "cell_type": "code",
   "execution_count": null,
   "id": "5fd39c11-be2e-4111-b733-77befdb4ca1b",
   "metadata": {
    "tags": []
   },
   "outputs": [],
   "source": [
    "fig = plt.figure(figsize=(15,5))\n",
    "cm = plt.get_cmap('gist_rainbow')\n",
    "ax=fig.gca()\n",
    "\n",
    "ax = plt.axes(projection=ccrs.Robinson(central_longitude=-67, globe=None))\n",
    "ax.gridlines()\n",
    "ax.add_feature(cfeature.LAND)\n",
    "ax.add_feature(cfeature.COASTLINE)\n",
    "\n",
    "p=ax.pcolor(diff.lon,diff.lat,diff_bef2008.mean(dim='time')*1000,transform=ccrs.PlateCarree(),vmin=-10,vmax=10, cmap='jet')\n",
    "h=plt.colorbar(p)"
   ]
  },
  {
   "cell_type": "code",
   "execution_count": null,
   "id": "cb0ed50c-269f-4278-a5ce-378aedab5562",
   "metadata": {
    "tags": []
   },
   "outputs": [],
   "source": [
    "diff_aft2008_mean=diff_aft2008.mean(dim='time')\n",
    "diff_bef2008_mean=diff_aft2008.mean(dim='time')\n",
    "diff_bef2008_mean"
   ]
  },
  {
   "cell_type": "code",
   "execution_count": null,
   "id": "b875a2a6-8c07-4988-979e-f3b5530c9573",
   "metadata": {
    "tags": []
   },
   "outputs": [],
   "source": [
    "fig = plt.figure(figsize=(15,5))\n",
    "ax=fig.gca()\n",
    "ax.plot(diff.lat,diff_aft2008_mean.mean(dim='lon')*1000)"
   ]
  },
  {
   "cell_type": "code",
   "execution_count": null,
   "id": "bfee48b9-6e5f-424a-9c79-9d43f8c9855a",
   "metadata": {
    "tags": []
   },
   "outputs": [],
   "source": [
    "result = diff.polyfit(dim = \"time\", deg = 1, skipna=True)\n",
    "trend_diff = result.polyfit_coefficients.sel(degree=1)*int(diff.time[-1]-diff.time[0])\n",
    "\n",
    "result = (grids_regrid).polyfit(dim = \"time\", deg = 1, skipna=True)\n",
    "trend_grids_regrid = result.polyfit_coefficients.sel(degree=1)*int(diff.time[-1]-diff.time[0])\n",
    "\n",
    "result = (grids.SSHA).polyfit(dim = \"time\", deg = 1, skipna=True)\n",
    "trend_grids = result.polyfit_coefficients.sel(degree=1)*int(diff.time[-1]-diff.time[0])\n",
    "\n",
    "result = (grids_3x1.SSHA).polyfit(dim = \"time\", deg = 1, skipna=True)\n",
    "trend_grids_3x1 = result.polyfit_coefficients.sel(degree=1)*int(diff.time[-1]-diff.time[0])"
   ]
  },
  {
   "cell_type": "code",
   "execution_count": null,
   "id": "4d622a09-43d4-4ddd-93d0-28c376f033c3",
   "metadata": {
    "tags": []
   },
   "outputs": [],
   "source": [
    "result = (diff_aft2008).polyfit(dim = \"time\", deg = 1, skipna=True)\n",
    "trend_diff_aft2008 = result.polyfit_coefficients.sel(degree=1)*int(diff_aft2008.time[-1]-diff_aft2008.time[0])\n",
    "\n",
    "result = (grids_regrid.sel(time=slice('2008-01-01','2017-12-31'))).polyfit(dim = \"time\", deg = 1, skipna=True)\n",
    "trend_grids_regrid_aft2008 = result.polyfit_coefficients.sel(degree=1)*int(diff_aft2008.time[-1]-diff_aft2008.time[0])\n",
    "\n",
    "result = (grids.sel(time=slice('2008-01-01','2017-12-31')).SSHA).polyfit(dim = \"time\", deg = 1, skipna=True)\n",
    "trend_grids_aft2008 = result.polyfit_coefficients.sel(degree=1)*int(diff_aft2008.time[-1]-diff_aft2008.time[0])\n",
    "\n",
    "result = (grids_3x1.sel(time=slice('2008-01-01','2017-12-31')).SSHA).polyfit(dim = \"time\", deg = 1, skipna=True)\n",
    "trend_grids_3x1_aft2008 = result.polyfit_coefficients.sel(degree=1)*int(diff_aft2008.time[-1]-diff_aft2008.time[0])"
   ]
  },
  {
   "cell_type": "code",
   "execution_count": null,
   "id": "4e2626f1-385b-4683-aefa-905dd3c1ff28",
   "metadata": {
    "tags": []
   },
   "outputs": [],
   "source": [
    "result = (diff_bef2008).polyfit(dim = \"time\", deg = 1, skipna=True)\n",
    "trend_diff_bef2008 = result.polyfit_coefficients.sel(degree=1)*int(diff_bef2008.time[-1]-diff_bef2008.time[0])\n",
    "\n",
    "result = (grids_regrid.sel(time=slice('1992-01-01','2007-12-31'))).polyfit(dim = \"time\", deg = 1, skipna=True)\n",
    "trend_grids_regrid_bef2008 = result.polyfit_coefficients.sel(degree=1)*int(diff_bef2008.time[-1]-diff_bef2008.time[0])\n",
    "\n",
    "result = (grids.sel(time=slice('1992-01-01','2007-12-31')).SSHA).polyfit(dim = \"time\", deg = 1, skipna=True)\n",
    "trend_grids_bef2008 = result.polyfit_coefficients.sel(degree=1)*int(diff_bef2008.time[-1]-diff_bef2008.time[0])\n",
    "\n",
    "result = (grids_3x1.sel(time=slice('1992-01-01','2007-12-31')).SSHA).polyfit(dim = \"time\", deg = 1, skipna=True)\n",
    "trend_grids_3x1_bef2008 = result.polyfit_coefficients.sel(degree=1)*int(diff_bef2008.time[-1]-diff_bef2008.time[0])"
   ]
  },
  {
   "cell_type": "code",
   "execution_count": null,
   "id": "b70ce4e2-a39e-4ea2-b1da-6df7ee093953",
   "metadata": {
    "tags": []
   },
   "outputs": [],
   "source": [
    "fig = plt.figure(figsize=(15,5))\n",
    "cm = plt.get_cmap('gist_rainbow')\n",
    "ax=fig.gca()\n",
    "\n",
    "ax = plt.axes(projection=ccrs.Robinson(central_longitude=-67, globe=None))\n",
    "ax.gridlines()\n",
    "ax.add_feature(cfeature.LAND)\n",
    "ax.add_feature(cfeature.COASTLINE)\n",
    "\n",
    "p=ax.pcolor(diff.lon,diff.lat,trend_diff,transform=ccrs.PlateCarree(),vmin=-0.01,vmax=0.01, cmap='jet')\n",
    "h=plt.colorbar(p)"
   ]
  },
  {
   "cell_type": "code",
   "execution_count": null,
   "id": "08c9ccec-c953-460f-9c31-2265d5684d61",
   "metadata": {
    "tags": []
   },
   "outputs": [],
   "source": [
    "trend_diff.mean().values\n"
   ]
  },
  {
   "cell_type": "code",
   "execution_count": null,
   "id": "d028d537-9930-4b61-a35f-30e5851d0588",
   "metadata": {
    "tags": []
   },
   "outputs": [],
   "source": [
    "fig = plt.figure(figsize=(15,5))\n",
    "cm = plt.get_cmap('gist_rainbow')\n",
    "ax=fig.gca()\n",
    "\n",
    "ax = plt.axes(projection=ccrs.Robinson(central_longitude=-67, globe=None))\n",
    "ax.gridlines()\n",
    "ax.add_feature(cfeature.LAND)\n",
    "ax.add_feature(cfeature.COASTLINE)\n",
    "\n",
    "p=ax.pcolor(diff.lon,diff.lat,trend_diff_aft2008,transform=ccrs.PlateCarree(),vmin=-0.01,vmax=0.01, cmap='jet')\n",
    "h=plt.colorbar(p)"
   ]
  },
  {
   "cell_type": "code",
   "execution_count": null,
   "id": "03c8ae93-2a4e-4ac0-90aa-db13a366956d",
   "metadata": {
    "tags": []
   },
   "outputs": [],
   "source": [
    "fig = plt.figure(figsize=(15,5))\n",
    "cm = plt.get_cmap('gist_rainbow')\n",
    "ax=fig.gca()\n",
    "\n",
    "ax = plt.axes(projection=ccrs.Robinson(central_longitude=-67, globe=None))\n",
    "ax.gridlines()\n",
    "ax.add_feature(cfeature.LAND)\n",
    "ax.add_feature(cfeature.COASTLINE)\n",
    "\n",
    "p=ax.pcolor(diff.lon,diff.lat,trend_diff_bef2008,transform=ccrs.PlateCarree(),vmin=-0.01,vmax=0.01, cmap='jet')\n",
    "h=plt.colorbar(p)"
   ]
  },
  {
   "cell_type": "code",
   "execution_count": null,
   "id": "e1df0a4b-b99c-42a4-a8e5-05492f3363b5",
   "metadata": {},
   "outputs": [],
   "source": [
    "fig = plt.figure(figsize=(15,5))\n",
    "cm = plt.get_cmap('gist_rainbow')\n",
    "ax=fig.gca()\n",
    "\n",
    "ax = plt.axes(projection=ccrs.Robinson(central_longitude=-67, globe=None))\n",
    "ax.gridlines()\n",
    "ax.add_feature(cfeature.LAND)\n",
    "ax.add_feature(cfeature.COASTLINE)\n",
    "\n",
    "p=ax.pcolor(diff.lon,diff.lat,trend_grids_3x1,transform=ccrs.PlateCarree(),vmin=-0.2,vmax=0.2, cmap='jet')\n",
    "h=plt.colorbar(p)"
   ]
  },
  {
   "cell_type": "code",
   "execution_count": null,
   "id": "fce9345f-3f1b-431a-919e-4cd39cb3df9b",
   "metadata": {},
   "outputs": [],
   "source": [
    "fig = plt.figure(figsize=(15,5))\n",
    "cm = plt.get_cmap('gist_rainbow')\n",
    "ax=fig.gca()\n",
    "\n",
    "ax = plt.axes(projection=ccrs.Robinson(central_longitude=-67, globe=None))\n",
    "ax.gridlines()\n",
    "ax.add_feature(cfeature.LAND)\n",
    "ax.add_feature(cfeature.COASTLINE)\n",
    "\n",
    "p=ax.pcolor(diff.lon,diff.lat,trend_grids_regrid,transform=ccrs.PlateCarree(),vmin=-0.2,vmax=0.2, cmap='jet')\n",
    "h=plt.colorbar(p)"
   ]
  },
  {
   "cell_type": "code",
   "execution_count": null,
   "id": "c378401b-0df3-4b5e-8706-bba4c20219e1",
   "metadata": {},
   "outputs": [],
   "source": [
    "fig = plt.figure(figsize=(15,5))\n",
    "cm = plt.get_cmap('gist_rainbow')\n",
    "ax=fig.gca()\n",
    "\n",
    "ax = plt.axes(projection=ccrs.Robinson(central_longitude=-67, globe=None))\n",
    "ax.gridlines()\n",
    "ax.add_feature(cfeature.LAND)\n",
    "ax.add_feature(cfeature.COASTLINE)\n",
    "\n",
    "p=ax.pcolor(diff.lon,diff.lat,trend_grids_3x1_aft2008,transform=ccrs.PlateCarree(),vmin=-0.2,vmax=0.2, cmap='jet')\n",
    "h=plt.colorbar(p)"
   ]
  },
  {
   "cell_type": "code",
   "execution_count": null,
   "id": "c52a81d5-11c0-43fc-8fcd-84cd3c06b403",
   "metadata": {},
   "outputs": [],
   "source": [
    "fig = plt.figure(figsize=(15,5))\n",
    "cm = plt.get_cmap('gist_rainbow')\n",
    "ax=fig.gca()\n",
    "\n",
    "ax = plt.axes(projection=ccrs.Robinson(central_longitude=-67, globe=None))\n",
    "ax.gridlines()\n",
    "ax.add_feature(cfeature.LAND)\n",
    "ax.add_feature(cfeature.COASTLINE)\n",
    "\n",
    "p=ax.pcolor(diff.lon,diff.lat,trend_grids_regrid_aft2008,transform=ccrs.PlateCarree(),vmin=-0.2,vmax=0.2, cmap='jet')\n",
    "h=plt.colorbar(p)"
   ]
  },
  {
   "cell_type": "code",
   "execution_count": null,
   "id": "f5f0754e-28db-4a33-a51f-26751d984f0a",
   "metadata": {},
   "outputs": [],
   "source": [
    "fig = plt.figure(figsize=(15,5))\n",
    "cm = plt.get_cmap('gist_rainbow')\n",
    "ax=fig.gca()\n",
    "\n",
    "ax = plt.axes(projection=ccrs.Robinson(central_longitude=-67, globe=None))\n",
    "ax.gridlines()\n",
    "ax.add_feature(cfeature.LAND)\n",
    "ax.add_feature(cfeature.COASTLINE)\n",
    "\n",
    "p=ax.pcolor(diff.lon,diff.lat,trend_grids_3x1_bef2008,transform=ccrs.PlateCarree(),vmin=-0.2,vmax=0.2, cmap='jet')\n",
    "h=plt.colorbar(p)"
   ]
  },
  {
   "cell_type": "code",
   "execution_count": null,
   "id": "be3134ab-1f64-43fc-8f90-4a8f9d4ac855",
   "metadata": {},
   "outputs": [],
   "source": [
    "fig = plt.figure(figsize=(15,5))\n",
    "cm = plt.get_cmap('gist_rainbow')\n",
    "ax=fig.gca()\n",
    "\n",
    "ax = plt.axes(projection=ccrs.Robinson(central_longitude=-67, globe=None))\n",
    "ax.gridlines()\n",
    "ax.add_feature(cfeature.LAND)\n",
    "ax.add_feature(cfeature.COASTLINE)\n",
    "\n",
    "p=ax.pcolor(diff.lon,diff.lat,trend_grids_regrid_bef2008,transform=ccrs.PlateCarree(),vmin=-0.2,vmax=0.2, cmap='jet')\n",
    "h=plt.colorbar(p)"
   ]
  },
  {
   "cell_type": "markdown",
   "id": "cdc1bfc1-8f8b-4e1d-aba5-d01d8f4d01b6",
   "metadata": {},
   "source": [
    "### Diff maps"
   ]
  },
  {
   "cell_type": "code",
   "execution_count": null,
   "id": "781901c6-c974-46f1-9529-c8121d603813",
   "metadata": {},
   "outputs": [],
   "source": []
  },
  {
   "cell_type": "markdown",
   "id": "bb005556-3b9d-41c6-9ba1-161960615b92",
   "metadata": {
    "tags": []
   },
   "source": [
    "### Compare GMSL"
   ]
  },
  {
   "cell_type": "code",
   "execution_count": null,
   "id": "a4f2b644-c7b6-4799-9edd-d8acfadc3315",
   "metadata": {
    "tags": []
   },
   "outputs": [],
   "source": [
    "fig,ax=plt.subplots(figsize=(10,5))\n",
    "(gmsl_grids_3errors_2cm.gmsl_grids*100-gmsl_grids_3x1_3errors_2cm.gmsl_grids_3x1*100).plot(label='grids-grids 3x1');\n",
    "plt.grid()\n",
    "plt.ylabel('(cm)',fontsize=18)\n",
    "plt.xlabel('')\n",
    "plt.tick_params(axis='both', which='major', labelsize=18)\n",
    "fig.suptitle('GMSL simulated grids - grids 3x1', fontsize=16)\n",
    "plt.legend(ncol=1, loc='lower left',fontsize=12)\n",
    "fig.subplots_adjust(left=0.13,top=0.93,bottom=0.15,right=0.97)"
   ]
  },
  {
   "cell_type": "code",
   "execution_count": null,
   "id": "0e4d529f-b1ac-495a-be20-8d11cbfbc603",
   "metadata": {
    "tags": []
   },
   "outputs": [],
   "source": [
    "fig,ax=plt.subplots(figsize=(10,5))\n",
    "(gmsl_grids.gmsl_grids*100-gmsl_grids_3x1.gmsl_grids_3x1*100).plot(label='grids-grids 3x1');\n",
    "plt.grid()\n",
    "plt.ylabel('(cm)',fontsize=18)\n",
    "plt.xlabel('')\n",
    "plt.tick_params(axis='both', which='major', labelsize=18)\n",
    "fig.suptitle('GMSL simulated grids - grids 3x1 (missing data+random noise+orbit error)', fontsize=16)\n",
    "plt.legend(ncol=1, loc='lower left',fontsize=12)\n",
    "fig.subplots_adjust(left=0.13,top=0.93,bottom=0.15,right=0.97)"
   ]
  },
  {
   "cell_type": "code",
   "execution_count": null,
   "id": "2ef675b6-cbce-459c-be2e-0cc5d4933bce",
   "metadata": {
    "tags": []
   },
   "outputs": [],
   "source": [
    "fig,ax=plt.subplots(figsize=(10,5))\n",
    "(gmsl_grids.gmsl_grids*100-ECCO_global_mean_sea_level.gmsl_ecco*100).plot(label='grids-ECCO');\n",
    "(gmsl_grids_3x1.gmsl_grids_3x1*100-ECCO_global_mean_sea_level.gmsl_ecco*100).plot(label='grids 3x1-ECCO');\n",
    "plt.grid()\n",
    "plt.ylabel('(cm)',fontsize=18)\n",
    "plt.xlabel('')\n",
    "plt.tick_params(axis='both', which='major', labelsize=18)\n",
    "fig.suptitle('GMSL simulated grids or grids 3x1 - ECCO', fontsize=16)\n",
    "plt.legend(ncol=2, loc='lower right',fontsize=12)\n",
    "fig.subplots_adjust(left=0.13,top=0.93,bottom=0.15,right=0.97)"
   ]
  },
  {
   "cell_type": "code",
   "execution_count": null,
   "id": "60bd7916-7380-40dd-8ba1-39d2697fd567",
   "metadata": {
    "tags": []
   },
   "outputs": [],
   "source": [
    "fig,ax=plt.subplots(figsize=(10,5))\n",
    "(gmsl_grids_3errors_2cm.gmsl_grids*100-ECCO_global_mean_sea_level.gmsl_ecco*100).plot(label='grids-ECCO');\n",
    "(gmsl_grids_3x1_3errors_2cm.gmsl_grids_3x1*100-ECCO_global_mean_sea_level.gmsl_ecco*100).plot(label='grids 3x1-ECCO');\n",
    "plt.grid()\n",
    "plt.ylabel('(cm)',fontsize=18)\n",
    "plt.xlabel('')\n",
    "plt.tick_params(axis='both', which='major', labelsize=18)\n",
    "fig.suptitle('GMSL simulated grids or grids 3x1 - ECCO', fontsize=16)\n",
    "plt.legend(ncol=2, loc='lower right',fontsize=12)\n",
    "fig.subplots_adjust(left=0.13,top=0.93,bottom=0.15,right=0.97)"
   ]
  },
  {
   "cell_type": "markdown",
   "id": "80de0a5b-b984-42f7-acfa-f50bccdaf702",
   "metadata": {
    "tags": []
   },
   "source": [
    "### Compare alongtrack vs grids vs 3x1 grids"
   ]
  },
  {
   "cell_type": "code",
   "execution_count": null,
   "id": "93b16137-dae6-4a18-91cb-3f3c9e83b675",
   "metadata": {
    "tags": []
   },
   "outputs": [],
   "source": [
    "ECCO_alongtrack_files = list(alongtrack_file_dir.glob('*ECCO_V4r4_alongtrack_SSH_*nc'))\n",
    "ECCO_alongtrack_files=np.sort(ECCO_alongtrack_files)\n",
    "print(ECCO_alongtrack_files)"
   ]
  },
  {
   "cell_type": "code",
   "execution_count": null,
   "id": "cc7ac00b-1b42-4d58-9141-6cecefdb451f",
   "metadata": {
    "tags": []
   },
   "outputs": [],
   "source": [
    "f=9000\n",
    "ECCO_alongtrack_files_cycle=ECCO_alongtrack_files[f:f+10]\n",
    "alongtrack = xr.open_mfdataset(\n",
    "        paths=ECCO_alongtrack_files_cycle,\n",
    "        combine='nested',\n",
    "        concat_dim='i',\n",
    "        decode_cf=True,\n",
    "        compat='override',\n",
    "        coords='minimal',\n",
    "        chunks={'time': 1}  \n",
    "    )  \n",
    "alongtrack=alongtrack.where((np.abs(alongtrack.lat) <= 66))\n",
    "SSH_at_xy_ano=alongtrack.SSH_at_xy\n",
    "ind=np.where(np.isfinite(SSH_at_xy_ano.values))\n",
    "x=SSH_at_xy_ano.lon.values[ind]\n",
    "y=SSH_at_xy_ano.lat.values[ind]\n",
    "data=SSH_at_xy_ano.values[ind]"
   ]
  },
  {
   "cell_type": "code",
   "execution_count": null,
   "id": "ad377b19-b2ac-455d-8fe4-b29513affcc7",
   "metadata": {
    "tags": []
   },
   "outputs": [],
   "source": [
    "fig = plt.figure(figsize=(15,5))\n",
    "cm = plt.get_cmap('gist_rainbow')\n",
    "ax=fig.gca()\n",
    "\n",
    "ax = plt.axes(projection=ccrs.Robinson(central_longitude=-67, globe=None))\n",
    "ax.gridlines()\n",
    "ax.add_feature(cfeature.LAND)\n",
    "ax.add_feature(cfeature.COASTLINE)\n",
    "\n",
    "p=ax.scatter(x,y,6,data,transform=ccrs.PlateCarree(),vmin=-0.2,vmax=0.2, cmap='jet')\n",
    "h=plt.colorbar(p)"
   ]
  },
  {
   "cell_type": "code",
   "execution_count": null,
   "id": "981dcd20-96e9-4858-9ac5-9c0952ac67d9",
   "metadata": {
    "tags": []
   },
   "outputs": [],
   "source": [
    "ds = xr.open_dataset(str(output_dir) + '/SSHA_gridded_3x1_2017-05-19.nc')\n",
    "ds"
   ]
  },
  {
   "cell_type": "code",
   "execution_count": null,
   "id": "8b381d83-f4f1-409b-a063-009b454c9b5b",
   "metadata": {
    "tags": []
   },
   "outputs": [],
   "source": [
    "fig = plt.figure(figsize=(15,5))\n",
    "cm = plt.get_cmap('gist_rainbow')\n",
    "ax=fig.gca()\n",
    "\n",
    "ax = plt.axes(projection=ccrs.Robinson(central_longitude=-67, globe=None))\n",
    "ax.gridlines()\n",
    "ax.add_feature(cfeature.LAND)\n",
    "ax.add_feature(cfeature.COASTLINE)\n",
    "\n",
    "p=ax.pcolor(ds.lon,ds.lat,ds.SSHA,transform=ccrs.PlateCarree(),vmin=-0.2,vmax=0.2, cmap='jet')\n",
    "h=plt.colorbar(p)"
   ]
  },
  {
   "cell_type": "code",
   "execution_count": null,
   "id": "795cadcd-7ea3-4f41-b464-f2e606dd579b",
   "metadata": {
    "tags": []
   },
   "outputs": [],
   "source": [
    "ds = xr.open_dataset(str(Path('/home/jovyan/Data/ECCO_GMSL/gridding_output/')) + '/SSHA_gridded_2017-05-19.nc')\n",
    "ds"
   ]
  },
  {
   "cell_type": "code",
   "execution_count": null,
   "id": "62fae8d5-ff53-434d-a4e2-b84dcbcfd3e5",
   "metadata": {
    "tags": []
   },
   "outputs": [],
   "source": [
    "fig = plt.figure(figsize=(15,5))\n",
    "cm = plt.get_cmap('gist_rainbow')\n",
    "ax=fig.gca()\n",
    "\n",
    "ax = plt.axes(projection=ccrs.Robinson(central_longitude=-67, globe=None))\n",
    "ax.gridlines()\n",
    "ax.add_feature(cfeature.LAND)\n",
    "ax.add_feature(cfeature.COASTLINE)\n",
    "\n",
    "p=ax.pcolor(ds.longitude,ds.latitude,ds.SSHA,transform=ccrs.PlateCarree(),vmin=-0.2,vmax=0.2, cmap='jet')\n",
    "h=plt.colorbar(p)"
   ]
  },
  {
   "cell_type": "code",
   "execution_count": null,
   "id": "68024673-5ab8-47df-953b-d8ca9786d0c3",
   "metadata": {},
   "outputs": [],
   "source": []
  },
  {
   "cell_type": "code",
   "execution_count": null,
   "id": "bc1cf1ba-1e4e-4f93-ac40-175bafd8ebc3",
   "metadata": {},
   "outputs": [],
   "source": []
  }
 ],
 "metadata": {
  "kernelspec": {
   "display_name": "Python 3 (ipykernel)",
   "language": "python",
   "name": "python3"
  },
  "language_info": {
   "codemirror_mode": {
    "name": "ipython",
    "version": 3
   },
   "file_extension": ".py",
   "mimetype": "text/x-python",
   "name": "python",
   "nbconvert_exporter": "python",
   "pygments_lexer": "ipython3",
   "version": "3.10.12"
  }
 },
 "nbformat": 4,
 "nbformat_minor": 5
}
