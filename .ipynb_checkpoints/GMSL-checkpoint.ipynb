{
 "cells": [
  {
   "cell_type": "code",
   "execution_count": 1,
   "id": "fce6f736-a933-40a0-83bd-5f8a9398fae1",
   "metadata": {},
   "outputs": [],
   "source": [
    "import numpy as np\n",
    "import xarray as xr\n",
    "import os\n",
    "import glob\n",
    "from pathlib import Path \n",
    "import pathlib\n",
    "from pprint import pprint\n",
    "import matplotlib.pyplot as plt\n",
    "import time\n",
    "import requests\n",
    "import s3fs\n",
    "from os.path import dirname, join\n",
    "import datetime\n",
    "\n",
    "import cartopy.crs as ccrs\n",
    "import cartopy.feature as cfeature"
   ]
  },
  {
   "cell_type": "code",
   "execution_count": 2,
   "id": "9c5beff4-e2f4-4712-b120-500b97eb3086",
   "metadata": {},
   "outputs": [],
   "source": [
    "alongtrack_file_dir = Path('/home/jovyan/Data/ECCO_GMSL/ECCO_V4r4_alongtrack_output/')\n",
    "alongtrack_file_dir_randomnoise = Path('/home/jovyan/Data/ECCO_GMSL/ECCO_V4r4_alongtrack_output_randomnoise/')\n",
    "alongtrack_file_dir_missingdata = Path('/home/jovyan/Data/ECCO_GMSL/ECCO_V4r4_alongtrack_output_missingdata/')\n",
    "alongtrack_file_dir_orbiterror = Path('/home/jovyan/Data/ECCO_GMSL/ECCO_V4r4_alongtrack_output_orbiterror/')\n",
    "alongtrack_file_dir_3errors = Path('/home/jovyan/Data/ECCO_GMSL/ECCO_V4r4_alongtrack_output_3errors/')\n",
    "grids_file_dir = Path('/home/jovyan/Data/ECCO_GMSL/gridding_output/')\n",
    "grids_file_dir_randomnoise = Path('/home/jovyan/Data/ECCO_GMSL/gridding_output_randomnoise/')\n",
    "grids_file_dir_missingdata = Path('/home/jovyan/Data/ECCO_GMSL/gridding_output_missingdata/')\n",
    "grids_file_dir_orbiterror = Path('/home/jovyan/Data/ECCO_GMSL/gridding_output_orbiterror/')\n",
    "grids_file_dir_3errors = Path('/home/jovyan/Data/ECCO_GMSL/gridding_output_3errors/')\n",
    "beckley_file_dir = Path('/home/jovyan/Data/ECCO_GMSL/Beckley/')\n",
    "main_dir = Path('/home/jovyan/ECCO_GMSL/')\n",
    "output_dir = Path('/home/jovyan/Data/ECCO_GMSL/GMSL/')"
   ]
  },
  {
   "cell_type": "markdown",
   "id": "56299810-b213-4de6-8e8b-87a39c190801",
   "metadata": {
    "tags": []
   },
   "source": [
    "# Compute Beckley along track GMSL\n",
    "### Compute parameters"
   ]
  },
  {
   "cell_type": "code",
   "execution_count": 3,
   "id": "389e8ebe-ec2d-4ab0-9fdf-eb1915e9e83d",
   "metadata": {},
   "outputs": [],
   "source": [
    "Vs = 7.2 #satellite along track velocity in km/s\n",
    "Ve = 0.46 #velocity of earth's rotation at the equator in km/s\n",
    "incidence = np.deg2rad(66.04) #satellite inclination\n",
    "sig = 1 #uncertainty\n",
    "alpha = np.arcsin(np.abs(np.cos(incidence)/np.cos(0)))\n",
    "gamma = np.arctan(np.abs( (Vs*np.sin(alpha)-Ve*np.cos(0)) / (Vs*np.cos(alpha)) ))\n",
    "beta0=np.pi/2 - gamma"
   ]
  },
  {
   "cell_type": "markdown",
   "id": "511ea09b-645b-4e5b-a3b3-200892a01d1c",
   "metadata": {
    "tags": []
   },
   "source": [
    "#### Compute the reference global mean SSH over 20 years 1996-2016"
   ]
  },
  {
   "cell_type": "markdown",
   "id": "50c153e3-3e7e-48a3-8c53-799a0cbb6d22",
   "metadata": {},
   "source": [
    "#### Compute GMSL 10-day time series"
   ]
  },
  {
   "cell_type": "code",
   "execution_count": null,
   "id": "a7f173f8-bc0d-4d3d-916e-e3aa19a5506a",
   "metadata": {},
   "outputs": [],
   "source": [
    "beckley_alongtrack_files = list(beckley_file_dir.glob('Merged*Cycle*nc'))\n",
    "beckley_alongtrack_files=np.sort(beckley_alongtrack_files)\n",
    "print(beckley_alongtrack_files)"
   ]
  },
  {
   "cell_type": "code",
   "execution_count": null,
   "id": "173d2e54-b3a0-4240-9165-f0b2fd00402b",
   "metadata": {},
   "outputs": [],
   "source": [
    "beckley_gmsl_tmp=[]\n",
    "for i in np.arange(0,len(beckley_alongtrack_files)):\n",
    "    alongtrack = xr.open_mfdataset(\n",
    "            paths=beckley_alongtrack_files[i],\n",
    "            combine='nested',\n",
    "            concat_dim='i',\n",
    "            decode_cf=True,\n",
    "            compat='override',\n",
    "            coords='minimal',\n",
    "            chunks={'time': 1}  \n",
    "        )  \n",
    "    alongtrack=alongtrack.where((np.abs(alongtrack.lat) <= 66))\n",
    "    SSH_at_xy_ano=alongtrack.ssha*10**(-3)\n",
    "    # SSH_at_xy_ano=alongtrack.SSH_at_xy-ref_mean\n",
    "    # alpha = np.arcsin(np.abs(np.cos(incidence)/np.cos(np.deg2rad(alongtrack.lat))))\n",
    "    # gamma = np.arctan(np.abs( (Vs*np.sin(alpha)-Ve*np.cos(np.deg2rad(alongtrack.lat))) / (Vs*np.cos(alpha)) ))\n",
    "    # beta = np.pi/2 - gamma\n",
    "    # w=np.sin(beta)/np.sin(beta0) #From Nerem 1995\n",
    "    w=np.cos(np.deg2rad(alongtrack.lat))\n",
    "    w=w.where(np.isfinite(SSH_at_xy_ano))\n",
    "    beckley_gmsl_tmp.append((SSH_at_xy_ano*w).sum(skipna=True)/w.sum(skipna=True))\n",
    "beckley_gmsl = xr.concat(beckley_gmsl_tmp, dim='time')"
   ]
  },
  {
   "cell_type": "code",
   "execution_count": null,
   "id": "f42e87a7-9d9d-47dc-bc57-0fba626be025",
   "metadata": {},
   "outputs": [],
   "source": [
    "beckley_gmsl.values"
   ]
  },
  {
   "cell_type": "code",
   "execution_count": null,
   "id": "21727a63-6107-4698-b19b-bf7a63adae34",
   "metadata": {},
   "outputs": [],
   "source": [
    "alongtrack"
   ]
  },
  {
   "cell_type": "code",
   "execution_count": null,
   "id": "522bc032-56b1-4392-a705-7147ddece820",
   "metadata": {},
   "outputs": [],
   "source": [
    "beckley_gmsl.name = 'gmsl_beckley_alongtrack'\n",
    "beckley_gmsl.attrs['units'] = 'm'\n",
    "beckley_gmsl.attrs['summary'] = '10-day GMSL time series computed on the alongtrack GSFC data'#, referenced to a 1996-2016 global mean SSH'\n",
    "beckley_gmsl.time.attrs['long_name'] = 'mid day of the 10-day average'\n",
    "#we use the Beckley time series for the time\n",
    "gmsl_beckley = xr.open_dataset(str(output_dir) + '/GMSL_Beckley_v51.nc')\n",
    "beckley_gmsl['time']=gmsl_beckley.time[0:len(beckley_gmsl)]\n",
    "beckley_gmsl.values"
   ]
  },
  {
   "cell_type": "code",
   "execution_count": null,
   "id": "0cba50b3-8926-4942-93af-482f0e2e25fa",
   "metadata": {},
   "outputs": [],
   "source": [
    "fname = output_dir / ('GMSL_Beckley.nc')\n",
    "beckley_gmsl.to_netcdf(fname)"
   ]
  },
  {
   "cell_type": "markdown",
   "id": "bb486bd4-937f-4b91-abf1-85e763886b57",
   "metadata": {
    "tags": []
   },
   "source": [
    "# Compute ECCO along track GMSL (Beckley's style)"
   ]
  },
  {
   "cell_type": "markdown",
   "id": "bc1b411b-7f1e-4325-8190-c5329fa1a2d2",
   "metadata": {
    "tags": []
   },
   "source": [
    "### No error\n",
    "#### Compute the reference global mean SSH over 20 years 1996-2016"
   ]
  },
  {
   "cell_type": "code",
   "execution_count": null,
   "id": "8cbd2b75-d11e-4b1d-9250-d186f96cacc6",
   "metadata": {},
   "outputs": [],
   "source": [
    "# ECCO_alongtrack_files=[]\n",
    "# for year in range(1996,2017):\n",
    "#     ECCO_alongtrack_files_tmp = list(alongtrack_file_dir.glob('*ECCO_V4r4_alongtrack_SSH_*'+str(year)+'*nc'))\n",
    "#     ECCO_alongtrack_files.extend(ECCO_alongtrack_files_tmp)\n",
    "# print(np.sort(ECCO_alongtrack_files))"
   ]
  },
  {
   "cell_type": "code",
   "execution_count": null,
   "id": "f38baeca-89b0-437f-8eb0-a56210cca0cf",
   "metadata": {
    "tags": []
   },
   "outputs": [],
   "source": [
    "# alongtrack = xr.open_mfdataset(\n",
    "#         paths=ECCO_alongtrack_files,\n",
    "#         combine='nested',\n",
    "#         concat_dim='i',\n",
    "#         decode_cf=True,\n",
    "#         compat='override',\n",
    "#         coords='minimal',\n",
    "#         chunks={'time': 1}  \n",
    "#     )  \n",
    "# alongtrack"
   ]
  },
  {
   "cell_type": "code",
   "execution_count": null,
   "id": "02ca72c0-15eb-46e0-ac59-861037ad2197",
   "metadata": {
    "tags": []
   },
   "outputs": [],
   "source": [
    "# ref_mean=alongtrack.SSH_at_xy.mean(skipna=True).values\n",
    "# print(ref_mean)"
   ]
  },
  {
   "cell_type": "markdown",
   "id": "96885b06-2efe-4a32-819a-17c085b10c77",
   "metadata": {},
   "source": [
    "#### Compute GMSL 10-day time series"
   ]
  },
  {
   "cell_type": "code",
   "execution_count": 6,
   "id": "f8b746c5-f02c-4bac-947f-f69d250b8efb",
   "metadata": {},
   "outputs": [],
   "source": [
    "ECCO_alongtrack_files = list(alongtrack_file_dir.glob('*ECCO_V4r4_alongtrack_SSH*1992*nc'))\n",
    "ECCO_alongtrack_files=np.sort(ECCO_alongtrack_files)\n",
    "# print(ECCO_alongtrack_files)"
   ]
  },
  {
   "cell_type": "code",
   "execution_count": 7,
   "id": "12295aea-61cc-4985-aff7-8822344138a9",
   "metadata": {},
   "outputs": [],
   "source": [
    "alongtrack_gmsl_tmp=[]\n",
    "for i in np.arange(0,len(ECCO_alongtrack_files),10):\n",
    "    ECCO_alongtrack_files_cycle=ECCO_alongtrack_files[i:i+10]\n",
    "    alongtrack = xr.open_mfdataset(\n",
    "            paths=ECCO_alongtrack_files_cycle,\n",
    "            combine='nested',\n",
    "            concat_dim='i',\n",
    "            decode_cf=True,\n",
    "            compat='override',\n",
    "            coords='minimal',\n",
    "            chunks={'time': 1}  \n",
    "        )  \n",
    "    alongtrack=alongtrack.where((np.abs(alongtrack.lat) <= 66))\n",
    "    SSH_at_xy_ano=alongtrack.SSH_at_xy\n",
    "    # SSH_at_xy_ano=alongtrack.SSH_at_xy-ref_mean\n",
    "    # alpha = np.arcsin(np.abs(np.cos(incidence)/np.cos(np.deg2rad(alongtrack.lat))))\n",
    "    # gamma = np.arctan(np.abs( (Vs*np.sin(alpha)-Ve*np.cos(np.deg2rad(alongtrack.lat))) / (Vs*np.cos(alpha)) ))\n",
    "    # beta = np.pi/2 - gamma\n",
    "    # w=np.sin(beta)/np.sin(beta0) #From Nerem 1995\n",
    "    w=np.cos(np.deg2rad(alongtrack.lat))\n",
    "    w=w.where(np.isfinite(SSH_at_xy_ano))\n",
    "    alongtrack_gmsl_tmp.append((SSH_at_xy_ano*w).sum(skipna=True)/w.sum(skipna=True))\n",
    "    \n",
    "    # fig = plt.figure(figsize=(15,5))\n",
    "    # cm = plt.get_cmap('gist_rainbow')\n",
    "    # ax=fig.gca()\n",
    "    # ax = plt.axes(projection=ccrs.Robinson( \\\n",
    "    #               central_longitude=-67, globe=None))\n",
    "    # ax.gridlines()\n",
    "    # ax.add_feature(cfeature.LAND)\n",
    "    # ax.add_feature(cfeature.COASTLINE)\n",
    "    # kk=12\n",
    "    # p=ax.scatter(alongtrack.lon[::kk],\\\n",
    "    #                      alongtrack.lat[::kk], \\\n",
    "    #                      c=(SSH_at_xy_ano*w)[::kk], s=1,\\\n",
    "    #                      transform=ccrs.PlateCarree(),\n",
    "    #                      vmin=-1,vmax=1, cmap='jet')\n",
    "alongtrack_gmsl = xr.concat(alongtrack_gmsl_tmp, dim='time')"
   ]
  },
  {
   "cell_type": "code",
   "execution_count": 8,
   "id": "9574def3-2c29-459a-9a6e-7117fea669fb",
   "metadata": {},
   "outputs": [
    {
     "data": {
      "text/html": [
       "<div><svg style=\"position: absolute; width: 0; height: 0; overflow: hidden\">\n",
       "<defs>\n",
       "<symbol id=\"icon-database\" viewBox=\"0 0 32 32\">\n",
       "<path d=\"M16 0c-8.837 0-16 2.239-16 5v4c0 2.761 7.163 5 16 5s16-2.239 16-5v-4c0-2.761-7.163-5-16-5z\"></path>\n",
       "<path d=\"M16 17c-8.837 0-16-2.239-16-5v6c0 2.761 7.163 5 16 5s16-2.239 16-5v-6c0 2.761-7.163 5-16 5z\"></path>\n",
       "<path d=\"M16 26c-8.837 0-16-2.239-16-5v6c0 2.761 7.163 5 16 5s16-2.239 16-5v-6c0 2.761-7.163 5-16 5z\"></path>\n",
       "</symbol>\n",
       "<symbol id=\"icon-file-text2\" viewBox=\"0 0 32 32\">\n",
       "<path d=\"M28.681 7.159c-0.694-0.947-1.662-2.053-2.724-3.116s-2.169-2.030-3.116-2.724c-1.612-1.182-2.393-1.319-2.841-1.319h-15.5c-1.378 0-2.5 1.121-2.5 2.5v27c0 1.378 1.122 2.5 2.5 2.5h23c1.378 0 2.5-1.122 2.5-2.5v-19.5c0-0.448-0.137-1.23-1.319-2.841zM24.543 5.457c0.959 0.959 1.712 1.825 2.268 2.543h-4.811v-4.811c0.718 0.556 1.584 1.309 2.543 2.268zM28 29.5c0 0.271-0.229 0.5-0.5 0.5h-23c-0.271 0-0.5-0.229-0.5-0.5v-27c0-0.271 0.229-0.5 0.5-0.5 0 0 15.499-0 15.5 0v7c0 0.552 0.448 1 1 1h7v19.5z\"></path>\n",
       "<path d=\"M23 26h-14c-0.552 0-1-0.448-1-1s0.448-1 1-1h14c0.552 0 1 0.448 1 1s-0.448 1-1 1z\"></path>\n",
       "<path d=\"M23 22h-14c-0.552 0-1-0.448-1-1s0.448-1 1-1h14c0.552 0 1 0.448 1 1s-0.448 1-1 1z\"></path>\n",
       "<path d=\"M23 18h-14c-0.552 0-1-0.448-1-1s0.448-1 1-1h14c0.552 0 1 0.448 1 1s-0.448 1-1 1z\"></path>\n",
       "</symbol>\n",
       "</defs>\n",
       "</svg>\n",
       "<style>/* CSS stylesheet for displaying xarray objects in jupyterlab.\n",
       " *\n",
       " */\n",
       "\n",
       ":root {\n",
       "  --xr-font-color0: var(--jp-content-font-color0, rgba(0, 0, 0, 1));\n",
       "  --xr-font-color2: var(--jp-content-font-color2, rgba(0, 0, 0, 0.54));\n",
       "  --xr-font-color3: var(--jp-content-font-color3, rgba(0, 0, 0, 0.38));\n",
       "  --xr-border-color: var(--jp-border-color2, #e0e0e0);\n",
       "  --xr-disabled-color: var(--jp-layout-color3, #bdbdbd);\n",
       "  --xr-background-color: var(--jp-layout-color0, white);\n",
       "  --xr-background-color-row-even: var(--jp-layout-color1, white);\n",
       "  --xr-background-color-row-odd: var(--jp-layout-color2, #eeeeee);\n",
       "}\n",
       "\n",
       "html[theme=dark],\n",
       "body.vscode-dark {\n",
       "  --xr-font-color0: rgba(255, 255, 255, 1);\n",
       "  --xr-font-color2: rgba(255, 255, 255, 0.54);\n",
       "  --xr-font-color3: rgba(255, 255, 255, 0.38);\n",
       "  --xr-border-color: #1F1F1F;\n",
       "  --xr-disabled-color: #515151;\n",
       "  --xr-background-color: #111111;\n",
       "  --xr-background-color-row-even: #111111;\n",
       "  --xr-background-color-row-odd: #313131;\n",
       "}\n",
       "\n",
       ".xr-wrap {\n",
       "  display: block !important;\n",
       "  min-width: 300px;\n",
       "  max-width: 700px;\n",
       "}\n",
       "\n",
       ".xr-text-repr-fallback {\n",
       "  /* fallback to plain text repr when CSS is not injected (untrusted notebook) */\n",
       "  display: none;\n",
       "}\n",
       "\n",
       ".xr-header {\n",
       "  padding-top: 6px;\n",
       "  padding-bottom: 6px;\n",
       "  margin-bottom: 4px;\n",
       "  border-bottom: solid 1px var(--xr-border-color);\n",
       "}\n",
       "\n",
       ".xr-header > div,\n",
       ".xr-header > ul {\n",
       "  display: inline;\n",
       "  margin-top: 0;\n",
       "  margin-bottom: 0;\n",
       "}\n",
       "\n",
       ".xr-obj-type,\n",
       ".xr-array-name {\n",
       "  margin-left: 2px;\n",
       "  margin-right: 10px;\n",
       "}\n",
       "\n",
       ".xr-obj-type {\n",
       "  color: var(--xr-font-color2);\n",
       "}\n",
       "\n",
       ".xr-sections {\n",
       "  padding-left: 0 !important;\n",
       "  display: grid;\n",
       "  grid-template-columns: 150px auto auto 1fr 20px 20px;\n",
       "}\n",
       "\n",
       ".xr-section-item {\n",
       "  display: contents;\n",
       "}\n",
       "\n",
       ".xr-section-item input {\n",
       "  display: none;\n",
       "}\n",
       "\n",
       ".xr-section-item input + label {\n",
       "  color: var(--xr-disabled-color);\n",
       "}\n",
       "\n",
       ".xr-section-item input:enabled + label {\n",
       "  cursor: pointer;\n",
       "  color: var(--xr-font-color2);\n",
       "}\n",
       "\n",
       ".xr-section-item input:enabled + label:hover {\n",
       "  color: var(--xr-font-color0);\n",
       "}\n",
       "\n",
       ".xr-section-summary {\n",
       "  grid-column: 1;\n",
       "  color: var(--xr-font-color2);\n",
       "  font-weight: 500;\n",
       "}\n",
       "\n",
       ".xr-section-summary > span {\n",
       "  display: inline-block;\n",
       "  padding-left: 0.5em;\n",
       "}\n",
       "\n",
       ".xr-section-summary-in:disabled + label {\n",
       "  color: var(--xr-font-color2);\n",
       "}\n",
       "\n",
       ".xr-section-summary-in + label:before {\n",
       "  display: inline-block;\n",
       "  content: '►';\n",
       "  font-size: 11px;\n",
       "  width: 15px;\n",
       "  text-align: center;\n",
       "}\n",
       "\n",
       ".xr-section-summary-in:disabled + label:before {\n",
       "  color: var(--xr-disabled-color);\n",
       "}\n",
       "\n",
       ".xr-section-summary-in:checked + label:before {\n",
       "  content: '▼';\n",
       "}\n",
       "\n",
       ".xr-section-summary-in:checked + label > span {\n",
       "  display: none;\n",
       "}\n",
       "\n",
       ".xr-section-summary,\n",
       ".xr-section-inline-details {\n",
       "  padding-top: 4px;\n",
       "  padding-bottom: 4px;\n",
       "}\n",
       "\n",
       ".xr-section-inline-details {\n",
       "  grid-column: 2 / -1;\n",
       "}\n",
       "\n",
       ".xr-section-details {\n",
       "  display: none;\n",
       "  grid-column: 1 / -1;\n",
       "  margin-bottom: 5px;\n",
       "}\n",
       "\n",
       ".xr-section-summary-in:checked ~ .xr-section-details {\n",
       "  display: contents;\n",
       "}\n",
       "\n",
       ".xr-array-wrap {\n",
       "  grid-column: 1 / -1;\n",
       "  display: grid;\n",
       "  grid-template-columns: 20px auto;\n",
       "}\n",
       "\n",
       ".xr-array-wrap > label {\n",
       "  grid-column: 1;\n",
       "  vertical-align: top;\n",
       "}\n",
       "\n",
       ".xr-preview {\n",
       "  color: var(--xr-font-color3);\n",
       "}\n",
       "\n",
       ".xr-array-preview,\n",
       ".xr-array-data {\n",
       "  padding: 0 5px !important;\n",
       "  grid-column: 2;\n",
       "}\n",
       "\n",
       ".xr-array-data,\n",
       ".xr-array-in:checked ~ .xr-array-preview {\n",
       "  display: none;\n",
       "}\n",
       "\n",
       ".xr-array-in:checked ~ .xr-array-data,\n",
       ".xr-array-preview {\n",
       "  display: inline-block;\n",
       "}\n",
       "\n",
       ".xr-dim-list {\n",
       "  display: inline-block !important;\n",
       "  list-style: none;\n",
       "  padding: 0 !important;\n",
       "  margin: 0;\n",
       "}\n",
       "\n",
       ".xr-dim-list li {\n",
       "  display: inline-block;\n",
       "  padding: 0;\n",
       "  margin: 0;\n",
       "}\n",
       "\n",
       ".xr-dim-list:before {\n",
       "  content: '(';\n",
       "}\n",
       "\n",
       ".xr-dim-list:after {\n",
       "  content: ')';\n",
       "}\n",
       "\n",
       ".xr-dim-list li:not(:last-child):after {\n",
       "  content: ',';\n",
       "  padding-right: 5px;\n",
       "}\n",
       "\n",
       ".xr-has-index {\n",
       "  font-weight: bold;\n",
       "}\n",
       "\n",
       ".xr-var-list,\n",
       ".xr-var-item {\n",
       "  display: contents;\n",
       "}\n",
       "\n",
       ".xr-var-item > div,\n",
       ".xr-var-item label,\n",
       ".xr-var-item > .xr-var-name span {\n",
       "  background-color: var(--xr-background-color-row-even);\n",
       "  margin-bottom: 0;\n",
       "}\n",
       "\n",
       ".xr-var-item > .xr-var-name:hover span {\n",
       "  padding-right: 5px;\n",
       "}\n",
       "\n",
       ".xr-var-list > li:nth-child(odd) > div,\n",
       ".xr-var-list > li:nth-child(odd) > label,\n",
       ".xr-var-list > li:nth-child(odd) > .xr-var-name span {\n",
       "  background-color: var(--xr-background-color-row-odd);\n",
       "}\n",
       "\n",
       ".xr-var-name {\n",
       "  grid-column: 1;\n",
       "}\n",
       "\n",
       ".xr-var-dims {\n",
       "  grid-column: 2;\n",
       "}\n",
       "\n",
       ".xr-var-dtype {\n",
       "  grid-column: 3;\n",
       "  text-align: right;\n",
       "  color: var(--xr-font-color2);\n",
       "}\n",
       "\n",
       ".xr-var-preview {\n",
       "  grid-column: 4;\n",
       "}\n",
       "\n",
       ".xr-var-name,\n",
       ".xr-var-dims,\n",
       ".xr-var-dtype,\n",
       ".xr-preview,\n",
       ".xr-attrs dt {\n",
       "  white-space: nowrap;\n",
       "  overflow: hidden;\n",
       "  text-overflow: ellipsis;\n",
       "  padding-right: 10px;\n",
       "}\n",
       "\n",
       ".xr-var-name:hover,\n",
       ".xr-var-dims:hover,\n",
       ".xr-var-dtype:hover,\n",
       ".xr-attrs dt:hover {\n",
       "  overflow: visible;\n",
       "  width: auto;\n",
       "  z-index: 1;\n",
       "}\n",
       "\n",
       ".xr-var-attrs,\n",
       ".xr-var-data {\n",
       "  display: none;\n",
       "  background-color: var(--xr-background-color) !important;\n",
       "  padding-bottom: 5px !important;\n",
       "}\n",
       "\n",
       ".xr-var-attrs-in:checked ~ .xr-var-attrs,\n",
       ".xr-var-data-in:checked ~ .xr-var-data {\n",
       "  display: block;\n",
       "}\n",
       "\n",
       ".xr-var-data > table {\n",
       "  float: right;\n",
       "}\n",
       "\n",
       ".xr-var-name span,\n",
       ".xr-var-data,\n",
       ".xr-attrs {\n",
       "  padding-left: 25px !important;\n",
       "}\n",
       "\n",
       ".xr-attrs,\n",
       ".xr-var-attrs,\n",
       ".xr-var-data {\n",
       "  grid-column: 1 / -1;\n",
       "}\n",
       "\n",
       "dl.xr-attrs {\n",
       "  padding: 0;\n",
       "  margin: 0;\n",
       "  display: grid;\n",
       "  grid-template-columns: 125px auto;\n",
       "}\n",
       "\n",
       ".xr-attrs dt,\n",
       ".xr-attrs dd {\n",
       "  padding: 0;\n",
       "  margin: 0;\n",
       "  float: left;\n",
       "  padding-right: 10px;\n",
       "  width: auto;\n",
       "}\n",
       "\n",
       ".xr-attrs dt {\n",
       "  font-weight: normal;\n",
       "  grid-column: 1;\n",
       "}\n",
       "\n",
       ".xr-attrs dt:hover span {\n",
       "  display: inline-block;\n",
       "  background: var(--xr-background-color);\n",
       "  padding-right: 10px;\n",
       "}\n",
       "\n",
       ".xr-attrs dd {\n",
       "  grid-column: 2;\n",
       "  white-space: pre-wrap;\n",
       "  word-break: break-all;\n",
       "}\n",
       "\n",
       ".xr-icon-database,\n",
       ".xr-icon-file-text2 {\n",
       "  display: inline-block;\n",
       "  vertical-align: middle;\n",
       "  width: 1em;\n",
       "  height: 1.5em !important;\n",
       "  stroke-width: 0;\n",
       "  stroke: currentColor;\n",
       "  fill: currentColor;\n",
       "}\n",
       "</style><pre class='xr-text-repr-fallback'>&lt;xarray.DataArray &#x27;SSH_at_xy&#x27; (i: 363573)&gt;\n",
       "dask.array&lt;where, shape=(363573,), dtype=float32, chunksize=(61407,), chunktype=numpy.ndarray&gt;\n",
       "Coordinates:\n",
       "    time        datetime64[ns] 1992-12-26\n",
       "    cycle_day   int64 0\n",
       "    cycle       int64 37\n",
       "    delta_days  int64 360\n",
       "    lon         (i) float32 dask.array&lt;chunksize=(59523,), meta=np.ndarray&gt;\n",
       "    lat         (i) float32 dask.array&lt;chunksize=(59523,), meta=np.ndarray&gt;\n",
       "Dimensions without coordinates: i\n",
       "Attributes:\n",
       "    source:   ECCO V4r4</pre><div class='xr-wrap' style='display:none'><div class='xr-header'><div class='xr-obj-type'>xarray.DataArray</div><div class='xr-array-name'>'SSH_at_xy'</div><ul class='xr-dim-list'><li><span>i</span>: 363573</li></ul></div><ul class='xr-sections'><li class='xr-section-item'><div class='xr-array-wrap'><input id='section-3d4a78f1-2438-4673-a54a-8a06dc6688b2' class='xr-array-in' type='checkbox' checked><label for='section-3d4a78f1-2438-4673-a54a-8a06dc6688b2' title='Show/hide data repr'><svg class='icon xr-icon-database'><use xlink:href='#icon-database'></use></svg></label><div class='xr-array-preview xr-preview'><span>dask.array&lt;chunksize=(59523,), meta=np.ndarray&gt;</span></div><div class='xr-array-data'><table>\n",
       "    <tr>\n",
       "        <td>\n",
       "            <table>\n",
       "                <thead>\n",
       "                    <tr>\n",
       "                        <td> </td>\n",
       "                        <th> Array </th>\n",
       "                        <th> Chunk </th>\n",
       "                    </tr>\n",
       "                </thead>\n",
       "                <tbody>\n",
       "                    \n",
       "                    <tr>\n",
       "                        <th> Bytes </th>\n",
       "                        <td> 1.39 MiB </td>\n",
       "                        <td> 239.87 kiB </td>\n",
       "                    </tr>\n",
       "                    \n",
       "                    <tr>\n",
       "                        <th> Shape </th>\n",
       "                        <td> (363573,) </td>\n",
       "                        <td> (61407,) </td>\n",
       "                    </tr>\n",
       "                    <tr>\n",
       "                        <th> Count </th>\n",
       "                        <td> 54 Tasks </td>\n",
       "                        <td> 6 Chunks </td>\n",
       "                    </tr>\n",
       "                    <tr>\n",
       "                    <th> Type </th>\n",
       "                    <td> float32 </td>\n",
       "                    <td> numpy.ndarray </td>\n",
       "                    </tr>\n",
       "                </tbody>\n",
       "            </table>\n",
       "        </td>\n",
       "        <td>\n",
       "        <svg width=\"170\" height=\"75\" style=\"stroke:rgb(0,0,0);stroke-width:1\" >\n",
       "\n",
       "  <!-- Horizontal lines -->\n",
       "  <line x1=\"0\" y1=\"0\" x2=\"120\" y2=\"0\" style=\"stroke-width:2\" />\n",
       "  <line x1=\"0\" y1=\"25\" x2=\"120\" y2=\"25\" style=\"stroke-width:2\" />\n",
       "\n",
       "  <!-- Vertical lines -->\n",
       "  <line x1=\"0\" y1=\"0\" x2=\"0\" y2=\"25\" style=\"stroke-width:2\" />\n",
       "  <line x1=\"19\" y1=\"0\" x2=\"19\" y2=\"25\" />\n",
       "  <line x1=\"39\" y1=\"0\" x2=\"39\" y2=\"25\" />\n",
       "  <line x1=\"59\" y1=\"0\" x2=\"59\" y2=\"25\" />\n",
       "  <line x1=\"79\" y1=\"0\" x2=\"79\" y2=\"25\" />\n",
       "  <line x1=\"100\" y1=\"0\" x2=\"100\" y2=\"25\" />\n",
       "  <line x1=\"120\" y1=\"0\" x2=\"120\" y2=\"25\" style=\"stroke-width:2\" />\n",
       "\n",
       "  <!-- Colored Rectangle -->\n",
       "  <polygon points=\"0.0,0.0 120.0,0.0 120.0,25.412616514582485 0.0,25.412616514582485\" style=\"fill:#ECB172A0;stroke-width:0\"/>\n",
       "\n",
       "  <!-- Text -->\n",
       "  <text x=\"60.000000\" y=\"45.412617\" font-size=\"1.0rem\" font-weight=\"100\" text-anchor=\"middle\" >363573</text>\n",
       "  <text x=\"140.000000\" y=\"12.706308\" font-size=\"1.0rem\" font-weight=\"100\" text-anchor=\"middle\" transform=\"rotate(0,140.000000,12.706308)\">1</text>\n",
       "</svg>\n",
       "        </td>\n",
       "    </tr>\n",
       "</table></div></div></li><li class='xr-section-item'><input id='section-b4f68f02-aa04-48a3-8b7c-de6d1d055064' class='xr-section-summary-in' type='checkbox'  checked><label for='section-b4f68f02-aa04-48a3-8b7c-de6d1d055064' class='xr-section-summary' >Coordinates: <span>(6)</span></label><div class='xr-section-inline-details'></div><div class='xr-section-details'><ul class='xr-var-list'><li class='xr-var-item'><div class='xr-var-name'><span>time</span></div><div class='xr-var-dims'>()</div><div class='xr-var-dtype'>datetime64[ns]</div><div class='xr-var-preview xr-preview'>1992-12-26</div><input id='attrs-a049c8d7-535f-410e-bec1-ddc2ed0f8915' class='xr-var-attrs-in' type='checkbox' disabled><label for='attrs-a049c8d7-535f-410e-bec1-ddc2ed0f8915' title='Show/Hide attributes'><svg class='icon xr-icon-file-text2'><use xlink:href='#icon-file-text2'></use></svg></label><input id='data-f36bd953-f74e-45f9-92a3-6c537908cd13' class='xr-var-data-in' type='checkbox'><label for='data-f36bd953-f74e-45f9-92a3-6c537908cd13' title='Show/Hide data repr'><svg class='icon xr-icon-database'><use xlink:href='#icon-database'></use></svg></label><div class='xr-var-attrs'><dl class='xr-attrs'></dl></div><div class='xr-var-data'><pre>array(&#x27;1992-12-26T00:00:00.000000000&#x27;, dtype=&#x27;datetime64[ns]&#x27;)</pre></div></li><li class='xr-var-item'><div class='xr-var-name'><span>cycle_day</span></div><div class='xr-var-dims'>()</div><div class='xr-var-dtype'>int64</div><div class='xr-var-preview xr-preview'>0</div><input id='attrs-54fd8da9-391f-41be-96b0-66e29e6cb6be' class='xr-var-attrs-in' type='checkbox' ><label for='attrs-54fd8da9-391f-41be-96b0-66e29e6cb6be' title='Show/Hide attributes'><svg class='icon xr-icon-file-text2'><use xlink:href='#icon-file-text2'></use></svg></label><input id='data-7a0de9d3-f32b-453e-bce3-1fa71eeee314' class='xr-var-data-in' type='checkbox'><label for='data-7a0de9d3-f32b-453e-bce3-1fa71eeee314' title='Show/Hide data repr'><svg class='icon xr-icon-database'><use xlink:href='#icon-database'></use></svg></label><div class='xr-var-attrs'><dl class='xr-attrs'><dt><span>comment :</span></dt><dd>which day in 10 day cycle</dd></dl></div><div class='xr-var-data'><pre>array(0)</pre></div></li><li class='xr-var-item'><div class='xr-var-name'><span>cycle</span></div><div class='xr-var-dims'>()</div><div class='xr-var-dtype'>int64</div><div class='xr-var-preview xr-preview'>37</div><input id='attrs-8ef852a7-0603-4503-ae7b-46ad47ea450d' class='xr-var-attrs-in' type='checkbox' ><label for='attrs-8ef852a7-0603-4503-ae7b-46ad47ea450d' title='Show/Hide attributes'><svg class='icon xr-icon-file-text2'><use xlink:href='#icon-file-text2'></use></svg></label><input id='data-4ea6c9e5-af47-4056-9d28-cba0d0a5915f' class='xr-var-data-in' type='checkbox'><label for='data-4ea6c9e5-af47-4056-9d28-cba0d0a5915f' title='Show/Hide data repr'><svg class='icon xr-icon-database'><use xlink:href='#icon-database'></use></svg></label><div class='xr-var-attrs'><dl class='xr-attrs'><dt><span>comment :</span></dt><dd>Total cycle since 1992-1-1</dd></dl></div><div class='xr-var-data'><pre>array(37)</pre></div></li><li class='xr-var-item'><div class='xr-var-name'><span>delta_days</span></div><div class='xr-var-dims'>()</div><div class='xr-var-dtype'>int64</div><div class='xr-var-preview xr-preview'>360</div><input id='attrs-1d94310d-b41b-4dad-a5f6-9aaad52eac81' class='xr-var-attrs-in' type='checkbox' ><label for='attrs-1d94310d-b41b-4dad-a5f6-9aaad52eac81' title='Show/Hide attributes'><svg class='icon xr-icon-file-text2'><use xlink:href='#icon-file-text2'></use></svg></label><input id='data-3dc5271b-a426-4d10-9f90-00d3153abc31' class='xr-var-data-in' type='checkbox'><label for='data-3dc5271b-a426-4d10-9f90-00d3153abc31' title='Show/Hide data repr'><svg class='icon xr-icon-database'><use xlink:href='#icon-database'></use></svg></label><div class='xr-var-attrs'><dl class='xr-attrs'><dt><span>comment :</span></dt><dd>days since 1992-01-01</dd></dl></div><div class='xr-var-data'><pre>array(360)</pre></div></li><li class='xr-var-item'><div class='xr-var-name'><span>lon</span></div><div class='xr-var-dims'>(i)</div><div class='xr-var-dtype'>float32</div><div class='xr-var-preview xr-preview'>dask.array&lt;chunksize=(59523,), meta=np.ndarray&gt;</div><input id='attrs-f48a4e25-e01f-4247-80b2-ec3cb6471b96' class='xr-var-attrs-in' type='checkbox' disabled><label for='attrs-f48a4e25-e01f-4247-80b2-ec3cb6471b96' title='Show/Hide attributes'><svg class='icon xr-icon-file-text2'><use xlink:href='#icon-file-text2'></use></svg></label><input id='data-64a5d8a5-16b0-4acc-af56-955ddb12c549' class='xr-var-data-in' type='checkbox'><label for='data-64a5d8a5-16b0-4acc-af56-955ddb12c549' title='Show/Hide data repr'><svg class='icon xr-icon-database'><use xlink:href='#icon-database'></use></svg></label><div class='xr-var-attrs'><dl class='xr-attrs'></dl></div><div class='xr-var-data'><table>\n",
       "    <tr>\n",
       "        <td>\n",
       "            <table>\n",
       "                <thead>\n",
       "                    <tr>\n",
       "                        <td> </td>\n",
       "                        <th> Array </th>\n",
       "                        <th> Chunk </th>\n",
       "                    </tr>\n",
       "                </thead>\n",
       "                <tbody>\n",
       "                    \n",
       "                    <tr>\n",
       "                        <th> Bytes </th>\n",
       "                        <td> 1.39 MiB </td>\n",
       "                        <td> 239.87 kiB </td>\n",
       "                    </tr>\n",
       "                    \n",
       "                    <tr>\n",
       "                        <th> Shape </th>\n",
       "                        <td> (363573,) </td>\n",
       "                        <td> (61407,) </td>\n",
       "                    </tr>\n",
       "                    <tr>\n",
       "                        <th> Count </th>\n",
       "                        <td> 18 Tasks </td>\n",
       "                        <td> 6 Chunks </td>\n",
       "                    </tr>\n",
       "                    <tr>\n",
       "                    <th> Type </th>\n",
       "                    <td> float32 </td>\n",
       "                    <td> numpy.ndarray </td>\n",
       "                    </tr>\n",
       "                </tbody>\n",
       "            </table>\n",
       "        </td>\n",
       "        <td>\n",
       "        <svg width=\"170\" height=\"75\" style=\"stroke:rgb(0,0,0);stroke-width:1\" >\n",
       "\n",
       "  <!-- Horizontal lines -->\n",
       "  <line x1=\"0\" y1=\"0\" x2=\"120\" y2=\"0\" style=\"stroke-width:2\" />\n",
       "  <line x1=\"0\" y1=\"25\" x2=\"120\" y2=\"25\" style=\"stroke-width:2\" />\n",
       "\n",
       "  <!-- Vertical lines -->\n",
       "  <line x1=\"0\" y1=\"0\" x2=\"0\" y2=\"25\" style=\"stroke-width:2\" />\n",
       "  <line x1=\"19\" y1=\"0\" x2=\"19\" y2=\"25\" />\n",
       "  <line x1=\"39\" y1=\"0\" x2=\"39\" y2=\"25\" />\n",
       "  <line x1=\"59\" y1=\"0\" x2=\"59\" y2=\"25\" />\n",
       "  <line x1=\"79\" y1=\"0\" x2=\"79\" y2=\"25\" />\n",
       "  <line x1=\"100\" y1=\"0\" x2=\"100\" y2=\"25\" />\n",
       "  <line x1=\"120\" y1=\"0\" x2=\"120\" y2=\"25\" style=\"stroke-width:2\" />\n",
       "\n",
       "  <!-- Colored Rectangle -->\n",
       "  <polygon points=\"0.0,0.0 120.0,0.0 120.0,25.412616514582485 0.0,25.412616514582485\" style=\"fill:#ECB172A0;stroke-width:0\"/>\n",
       "\n",
       "  <!-- Text -->\n",
       "  <text x=\"60.000000\" y=\"45.412617\" font-size=\"1.0rem\" font-weight=\"100\" text-anchor=\"middle\" >363573</text>\n",
       "  <text x=\"140.000000\" y=\"12.706308\" font-size=\"1.0rem\" font-weight=\"100\" text-anchor=\"middle\" transform=\"rotate(0,140.000000,12.706308)\">1</text>\n",
       "</svg>\n",
       "        </td>\n",
       "    </tr>\n",
       "</table></div></li><li class='xr-var-item'><div class='xr-var-name'><span>lat</span></div><div class='xr-var-dims'>(i)</div><div class='xr-var-dtype'>float32</div><div class='xr-var-preview xr-preview'>dask.array&lt;chunksize=(59523,), meta=np.ndarray&gt;</div><input id='attrs-a6955e42-3e87-4219-a051-e08010468eaa' class='xr-var-attrs-in' type='checkbox' disabled><label for='attrs-a6955e42-3e87-4219-a051-e08010468eaa' title='Show/Hide attributes'><svg class='icon xr-icon-file-text2'><use xlink:href='#icon-file-text2'></use></svg></label><input id='data-a529c50f-c9b8-46fe-8479-c511da980fe8' class='xr-var-data-in' type='checkbox'><label for='data-a529c50f-c9b8-46fe-8479-c511da980fe8' title='Show/Hide data repr'><svg class='icon xr-icon-database'><use xlink:href='#icon-database'></use></svg></label><div class='xr-var-attrs'><dl class='xr-attrs'></dl></div><div class='xr-var-data'><table>\n",
       "    <tr>\n",
       "        <td>\n",
       "            <table>\n",
       "                <thead>\n",
       "                    <tr>\n",
       "                        <td> </td>\n",
       "                        <th> Array </th>\n",
       "                        <th> Chunk </th>\n",
       "                    </tr>\n",
       "                </thead>\n",
       "                <tbody>\n",
       "                    \n",
       "                    <tr>\n",
       "                        <th> Bytes </th>\n",
       "                        <td> 1.39 MiB </td>\n",
       "                        <td> 239.87 kiB </td>\n",
       "                    </tr>\n",
       "                    \n",
       "                    <tr>\n",
       "                        <th> Shape </th>\n",
       "                        <td> (363573,) </td>\n",
       "                        <td> (61407,) </td>\n",
       "                    </tr>\n",
       "                    <tr>\n",
       "                        <th> Count </th>\n",
       "                        <td> 18 Tasks </td>\n",
       "                        <td> 6 Chunks </td>\n",
       "                    </tr>\n",
       "                    <tr>\n",
       "                    <th> Type </th>\n",
       "                    <td> float32 </td>\n",
       "                    <td> numpy.ndarray </td>\n",
       "                    </tr>\n",
       "                </tbody>\n",
       "            </table>\n",
       "        </td>\n",
       "        <td>\n",
       "        <svg width=\"170\" height=\"75\" style=\"stroke:rgb(0,0,0);stroke-width:1\" >\n",
       "\n",
       "  <!-- Horizontal lines -->\n",
       "  <line x1=\"0\" y1=\"0\" x2=\"120\" y2=\"0\" style=\"stroke-width:2\" />\n",
       "  <line x1=\"0\" y1=\"25\" x2=\"120\" y2=\"25\" style=\"stroke-width:2\" />\n",
       "\n",
       "  <!-- Vertical lines -->\n",
       "  <line x1=\"0\" y1=\"0\" x2=\"0\" y2=\"25\" style=\"stroke-width:2\" />\n",
       "  <line x1=\"19\" y1=\"0\" x2=\"19\" y2=\"25\" />\n",
       "  <line x1=\"39\" y1=\"0\" x2=\"39\" y2=\"25\" />\n",
       "  <line x1=\"59\" y1=\"0\" x2=\"59\" y2=\"25\" />\n",
       "  <line x1=\"79\" y1=\"0\" x2=\"79\" y2=\"25\" />\n",
       "  <line x1=\"100\" y1=\"0\" x2=\"100\" y2=\"25\" />\n",
       "  <line x1=\"120\" y1=\"0\" x2=\"120\" y2=\"25\" style=\"stroke-width:2\" />\n",
       "\n",
       "  <!-- Colored Rectangle -->\n",
       "  <polygon points=\"0.0,0.0 120.0,0.0 120.0,25.412616514582485 0.0,25.412616514582485\" style=\"fill:#ECB172A0;stroke-width:0\"/>\n",
       "\n",
       "  <!-- Text -->\n",
       "  <text x=\"60.000000\" y=\"45.412617\" font-size=\"1.0rem\" font-weight=\"100\" text-anchor=\"middle\" >363573</text>\n",
       "  <text x=\"140.000000\" y=\"12.706308\" font-size=\"1.0rem\" font-weight=\"100\" text-anchor=\"middle\" transform=\"rotate(0,140.000000,12.706308)\">1</text>\n",
       "</svg>\n",
       "        </td>\n",
       "    </tr>\n",
       "</table></div></li></ul></div></li><li class='xr-section-item'><input id='section-ccb5602e-64e9-4b5d-93c4-0ae6d7b43f50' class='xr-section-summary-in' type='checkbox'  checked><label for='section-ccb5602e-64e9-4b5d-93c4-0ae6d7b43f50' class='xr-section-summary' >Attributes: <span>(1)</span></label><div class='xr-section-inline-details'></div><div class='xr-section-details'><dl class='xr-attrs'><dt><span>source :</span></dt><dd>ECCO V4r4</dd></dl></div></li></ul></div></div>"
      ],
      "text/plain": [
       "<xarray.DataArray 'SSH_at_xy' (i: 363573)>\n",
       "dask.array<where, shape=(363573,), dtype=float32, chunksize=(61407,), chunktype=numpy.ndarray>\n",
       "Coordinates:\n",
       "    time        datetime64[ns] 1992-12-26\n",
       "    cycle_day   int64 0\n",
       "    cycle       int64 37\n",
       "    delta_days  int64 360\n",
       "    lon         (i) float32 dask.array<chunksize=(59523,), meta=np.ndarray>\n",
       "    lat         (i) float32 dask.array<chunksize=(59523,), meta=np.ndarray>\n",
       "Dimensions without coordinates: i\n",
       "Attributes:\n",
       "    source:   ECCO V4r4"
      ]
     },
     "execution_count": 8,
     "metadata": {},
     "output_type": "execute_result"
    }
   ],
   "source": [
    "SSH_at_xy_ano"
   ]
  },
  {
   "cell_type": "code",
   "execution_count": 9,
   "id": "c5277a42-d364-496c-aee2-7fdce0abe248",
   "metadata": {},
   "outputs": [
    {
     "data": {
      "text/plain": [
       "347852"
      ]
     },
     "execution_count": 9,
     "metadata": {},
     "output_type": "execute_result"
    }
   ],
   "source": [
    "ind=np.where(np.isfinite(SSH_at_xy_ano))\n",
    "len(ind[0])"
   ]
  },
  {
   "cell_type": "code",
   "execution_count": null,
   "id": "5c89392a-9e33-4832-8a1e-ca77be2c9d8e",
   "metadata": {},
   "outputs": [],
   "source": [
    "alongtrack_gmsl=alongtrack_gmsl.drop('cycle_day')\n",
    "alongtrack_gmsl=alongtrack_gmsl.drop('delta_days')\n",
    "alongtrack_gmsl.name = 'gmsl_ecco_alongtrack'\n",
    "alongtrack_gmsl.attrs['units'] = 'm'\n",
    "alongtrack_gmsl.attrs['summary'] = '10-day GMSL time series computed on the alongtrack ECCO data, referenced to a 1996-2016 global mean SSH'\n",
    "alongtrack_gmsl.time.attrs['long_name'] = 'mid day of the 10-day average'\n",
    "alongtrack_gmsl['time']=alongtrack_gmsl.time+(4*24*60*60*10**(9))"
   ]
  },
  {
   "cell_type": "markdown",
   "id": "ebd086a7-5b9f-4bf9-86dc-0ae5d8e074e2",
   "metadata": {},
   "source": [
    "### Random noise error\n",
    "#### Compute the reference global mean SSH over 20 years 1996-2016"
   ]
  },
  {
   "cell_type": "code",
   "execution_count": null,
   "id": "3af4cbfa-30dc-46f4-8db8-1ab56212846d",
   "metadata": {},
   "outputs": [],
   "source": [
    "# ECCO_alongtrack_files=[]\n",
    "# for year in range(1996,2017):\n",
    "#     ECCO_alongtrack_files_tmp = list(alongtrack_file_dir_randomnoise.glob('*ECCO_V4r4_alongtrack_SSH_*'+str(year)+'*nc'))\n",
    "#     ECCO_alongtrack_files.extend(ECCO_alongtrack_files_tmp)\n",
    "# print(np.sort(ECCO_alongtrack_files))"
   ]
  },
  {
   "cell_type": "code",
   "execution_count": null,
   "id": "f16e7daa-875d-4f8d-8b6e-8606203b615b",
   "metadata": {},
   "outputs": [],
   "source": [
    "# alongtrack = xr.open_mfdataset(\n",
    "#         paths=ECCO_alongtrack_files,\n",
    "#         combine='nested',\n",
    "#         concat_dim='i',\n",
    "#         decode_cf=True,\n",
    "#         compat='override',\n",
    "#         coords='minimal',\n",
    "#         chunks={'time': 1}  \n",
    "#     )  \n",
    "# alongtrack"
   ]
  },
  {
   "cell_type": "code",
   "execution_count": null,
   "id": "5cc83ce4-b320-4858-9e7f-fe6fadc9f843",
   "metadata": {},
   "outputs": [],
   "source": [
    "# ref_mean_randomnoise=alongtrack.SSH_at_xy.mean(skipna=True).values\n",
    "# print(ref_mean_randomnoise)"
   ]
  },
  {
   "cell_type": "markdown",
   "id": "ff53466d-3196-4e48-980b-b720ee9b4705",
   "metadata": {},
   "source": [
    "#### Compute GMSL 10-day time series"
   ]
  },
  {
   "cell_type": "code",
   "execution_count": null,
   "id": "2f825135-fd45-4436-971d-1515d59780b5",
   "metadata": {},
   "outputs": [],
   "source": [
    "ECCO_alongtrack_files = list(alongtrack_file_dir_randomnoise.glob('*ECCO_V4r4_alongtrack_SSH_*nc'))\n",
    "ECCO_alongtrack_files=np.sort(ECCO_alongtrack_files)\n",
    "print(ECCO_alongtrack_files)"
   ]
  },
  {
   "cell_type": "code",
   "execution_count": null,
   "id": "c4f1737b-65e2-4e77-901c-fb207d6ef757",
   "metadata": {},
   "outputs": [],
   "source": [
    "alongtrack_gmsl_tmp=[]\n",
    "for i in np.arange(0,len(ECCO_alongtrack_files),10):\n",
    "    ECCO_alongtrack_files_cycle=ECCO_alongtrack_files[i:i+10]\n",
    "    alongtrack = xr.open_mfdataset(\n",
    "            paths=ECCO_alongtrack_files_cycle,\n",
    "            combine='nested',\n",
    "            concat_dim='i',\n",
    "            decode_cf=True,\n",
    "            compat='override',\n",
    "            coords='minimal',\n",
    "            chunks={'time': 1}  \n",
    "        )  \n",
    "    alongtrack=alongtrack.where((np.abs(alongtrack.lat) <= 66))\n",
    "    SSH_at_xy_ano=alongtrack.SSH_at_xy\n",
    "    # SSH_at_xy_ano=alongtrack.SSH_at_xy-ref_mean\n",
    "    # alpha = np.arcsin(np.abs(np.cos(incidence)/np.cos(np.deg2rad(alongtrack.lat))))\n",
    "    # gamma = np.arctan(np.abs( (Vs*np.sin(alpha)-Ve*np.cos(np.deg2rad(alongtrack.lat))) / (Vs*np.cos(alpha)) ))\n",
    "    # beta = np.pi/2 - gamma\n",
    "    # w=np.sin(beta)/np.sin(beta0) #From Nerem 1995\n",
    "    w=np.cos(np.deg2rad(alongtrack.lat))\n",
    "    w=w.where(np.isfinite(SSH_at_xy_ano))\n",
    "    alongtrack_gmsl_tmp.append((SSH_at_xy_ano*w).sum(skipna=True)/w.sum(skipna=True))\n",
    "alongtrack_gmsl_randomnoise = xr.concat(alongtrack_gmsl_tmp, dim='time')"
   ]
  },
  {
   "cell_type": "code",
   "execution_count": null,
   "id": "318644b7-2536-440f-b9f3-6ff00b081b12",
   "metadata": {},
   "outputs": [],
   "source": [
    "alongtrack_gmsl_randomnoise=alongtrack_gmsl_randomnoise.drop('cycle_day')\n",
    "alongtrack_gmsl_randomnoise=alongtrack_gmsl_randomnoise.drop('delta_days')\n",
    "alongtrack_gmsl_randomnoise.name = 'gmsl_ecco_alongtrack'\n",
    "alongtrack_gmsl_randomnoise.attrs['units'] = 'm'\n",
    "alongtrack_gmsl_randomnoise.attrs['summary'] = '10-day GMSL time series computed on the alongtrack ECCO data with random noise, referenced to a 1996-2016 global mean SSH'\n",
    "alongtrack_gmsl_randomnoise.time.attrs['long_name'] = 'first day of the 10-day average'\n",
    "alongtrack_gmsl_randomnoise['time']=alongtrack_gmsl_randomnoise.time+(4*24*60*60*10**(9))\n",
    "alongtrack_gmsl_randomnoise"
   ]
  },
  {
   "cell_type": "markdown",
   "id": "11977bf8-9d62-4118-b776-4588a42ede12",
   "metadata": {
    "tags": []
   },
   "source": [
    "### Missing data\n",
    "#### Compute the reference global mean SSH over 20 years 1996-2016"
   ]
  },
  {
   "cell_type": "code",
   "execution_count": null,
   "id": "9e79e7f8-bd27-4b5d-9951-7a6621432636",
   "metadata": {
    "tags": []
   },
   "outputs": [],
   "source": [
    "# ECCO_alongtrack_files=[]\n",
    "# for year in range(1996,2017):\n",
    "#     ECCO_alongtrack_files_tmp = list(alongtrack_file_dir_missingdata.glob('*ECCO_V4r4_alongtrack_SSH_*'+str(year)+'*nc'))\n",
    "#     ECCO_alongtrack_files.extend(ECCO_alongtrack_files_tmp)\n",
    "# print(np.sort(ECCO_alongtrack_files))"
   ]
  },
  {
   "cell_type": "code",
   "execution_count": null,
   "id": "c0782adf-ddbf-44ef-a3fe-712489be2bd7",
   "metadata": {},
   "outputs": [],
   "source": [
    "# alongtrack = xr.open_mfdataset(\n",
    "#         paths=ECCO_alongtrack_files,\n",
    "#         combine='nested',\n",
    "#         concat_dim='i',\n",
    "#         decode_cf=True,\n",
    "#         compat='override',\n",
    "#         coords='minimal',\n",
    "#         chunks={'time': 1}  \n",
    "#     )  \n",
    "# alongtrack"
   ]
  },
  {
   "cell_type": "code",
   "execution_count": null,
   "id": "aad2c60f-21d9-47ba-8a38-c0f3e3b068fa",
   "metadata": {},
   "outputs": [],
   "source": [
    "# ref_mean_missingdata=alongtrack.SSH_at_xy.mean(skipna=True).values\n",
    "# print(ref_mean_missingdata)"
   ]
  },
  {
   "cell_type": "markdown",
   "id": "bedfe62c-582c-4a9d-8b02-1dbe6a976a7b",
   "metadata": {},
   "source": [
    "#### Compute GMSL 10-day time series"
   ]
  },
  {
   "cell_type": "code",
   "execution_count": 22,
   "id": "c24765eb-d4d7-4356-9df8-ad69e12f5531",
   "metadata": {},
   "outputs": [],
   "source": [
    "ECCO_alongtrack_files = list(alongtrack_file_dir_missingdata.glob('*ECCO_V4r4_alongtrack_SSH*nc'))\n",
    "ECCO_alongtrack_files=np.sort(ECCO_alongtrack_files)\n",
    "# print(ECCO_alongtrack_files)"
   ]
  },
  {
   "cell_type": "code",
   "execution_count": 23,
   "id": "a827dc22-1110-4aa4-aab2-f4924e835ffa",
   "metadata": {
    "tags": []
   },
   "outputs": [],
   "source": [
    "alongtrack_gmsl_tmp_missingdata=[]\n",
    "alongtrack_gmsl_tmp_missingdata2=[]\n",
    "ind_vec=[]\n",
    "for i in np.arange(0,len(ECCO_alongtrack_files),10):\n",
    "    ECCO_alongtrack_files_cycle=ECCO_alongtrack_files[i:i+10]\n",
    "    alongtrack = xr.open_mfdataset(\n",
    "            paths=ECCO_alongtrack_files_cycle,\n",
    "            combine='nested',\n",
    "            concat_dim='i',\n",
    "            decode_cf=True,\n",
    "            compat='override',\n",
    "            coords='minimal',\n",
    "            chunks={'time': 1}  \n",
    "        )  \n",
    "    alongtrack=alongtrack.where((np.abs(alongtrack.lat) <= 66))\n",
    "    SSH_at_xy_ano_missingdata=alongtrack.SSH_at_xy\n",
    "    # SSH_at_xy_ano=alongtrack.SSH_at_xy-ref_mean\n",
    "    # alpha = np.arcsin(np.abs(np.cos(incidence)/np.cos(np.deg2rad(alongtrack.lat))))\n",
    "    # gamma = np.arctan(np.abs( (Vs*np.sin(alpha)-Ve*np.cos(np.deg2rad(alongtrack.lat))) / (Vs*np.cos(alpha)) ))\n",
    "    # beta = np.pi/2 - gamma\n",
    "    # w=np.sin(beta)/np.sin(beta0) #From Nerem 1995\n",
    "    w_missingdata=np.cos(np.deg2rad(alongtrack.lat))\n",
    "    w_missingdata=w_missingdata.where(np.isfinite(SSH_at_xy_ano_missingdata))\n",
    "    alongtrack_gmsl_tmp_missingdata.append((SSH_at_xy_ano_missingdata*w_missingdata).sum(skipna=True)/w_missingdata.sum(skipna=True))\n",
    "    alongtrack_gmsl_tmp_missingdata2.append((SSH_at_xy_ano_missingdata).mean(skipna=True))\n",
    " \n",
    "    # fig = plt.figure(figsize=(15,5))\n",
    "#     ax=fig.gca()\n",
    "#     kk=12\n",
    "#     p=ax.plot(alongtrack.lat[::kk],\\\n",
    "#                          (SSH_at_xy_ano_missingdata*w_missingdata)[::kk], marker='o',linestyle='None')\n",
    "    \n",
    "#     fig = plt.figure(figsize=(15,5))\n",
    "#     cm = plt.get_cmap('gist_rainbow')\n",
    "#     ax=fig.gca()\n",
    "#     ax = plt.axes(projection=ccrs.Robinson( \\\n",
    "#                   central_longitude=-67, globe=None))\n",
    "#     ax.gridlines()\n",
    "#     ax.add_feature(cfeature.LAND)\n",
    "#     ax.add_feature(cfeature.COASTLINE)\n",
    "#     kk=12\n",
    "#     p=ax.scatter(alongtrack.lon[::kk],\\\n",
    "#                          alongtrack.lat[::kk], \\\n",
    "#                          c=(SSH_at_xy_ano_missingdata*w_missingdata)[::kk], s=1,\\\n",
    "#                          transform=ccrs.PlateCarree(),\n",
    "#                          vmin=-1,vmax=1, cmap='jet')\n",
    "    # print((SSH_at_xy_ano_missingdata).min(skipna=True).values,(SSH_at_xy_ano_missingdata).max(skipna=True).values)\n",
    "    # ind=np.where(np.isfinite(SSH_at_xy_ano_missingdata))\n",
    "    # ind_vec.append(len(ind[0]))\n",
    "    # print(len(ind[0]), ((SSH_at_xy_ano_missingdata*w_missingdata).sum(skipna=True)/w_missingdata.sum(skipna=True)).values)\n",
    "alongtrack_gmsl_missingdata = xr.concat(alongtrack_gmsl_tmp_missingdata, dim='time')"
   ]
  },
  {
   "cell_type": "code",
   "execution_count": 25,
   "id": "0775c733-bc87-4d5a-90fa-f4a71b01f995",
   "metadata": {
    "tags": []
   },
   "outputs": [
    {
     "data": {
      "image/png": "[encoded data removed]",
      "text/plain": [
       "<Figure size 1080x360 with 1 Axes>"
      ]
     },
     "metadata": {
      "needs_background": "light"
     },
     "output_type": "display_data"
    }
   ],
   "source": [
    "alongtrack_gmsl_missingdata2 = xr.concat(alongtrack_gmsl_tmp_missingdata2, dim='time')\n",
    "fig = plt.figure(figsize=(15,5))\n",
    "ax=fig.gca()\n",
    "kk=12\n",
    "p=ax.plot(alongtrack_gmsl_tmp_missingdata2,linestyle='-')\n"
   ]
  },
  {
   "cell_type": "code",
   "execution_count": 16,
   "id": "e76d6608-4e79-4cb7-acca-77278d67cca0",
   "metadata": {
    "tags": []
   },
   "outputs": [
    {
     "data": {
      "text/plain": [
       "296784"
      ]
     },
     "execution_count": 16,
     "metadata": {},
     "output_type": "execute_result"
    }
   ],
   "source": [
    "ind=np.where(np.isfinite(SSH_at_xy_ano_missingdata))\n",
    "len(ind[0])"
   ]
  },
  {
   "cell_type": "code",
   "execution_count": null,
   "id": "56c92bfe-fae3-4fce-aa4b-3efa58d3f997",
   "metadata": {},
   "outputs": [],
   "source": [
    "alongtrack_gmsl_missingdata=alongtrack_gmsl_missingdata.drop('cycle_day')\n",
    "alongtrack_gmsl_missingdata=alongtrack_gmsl_missingdata.drop('delta_days')\n",
    "alongtrack_gmsl_missingdata.name = 'gmsl_ecco_alongtrack'\n",
    "alongtrack_gmsl_missingdata.attrs['units'] = 'm'\n",
    "alongtrack_gmsl_missingdata.attrs['summary'] = '10-day GMSL time series computed on the alongtrack ECCO data with missing data, referenced to a 1996-2016 global mean SSH'\n",
    "alongtrack_gmsl_missingdata.time.attrs['long_name'] = 'first day of the 10-day average'\n",
    "alongtrack_gmsl_missingdata['time']=alongtrack_gmsl_missingdata.time+(4*24*60*60*10**(9))\n",
    "alongtrack_gmsl_missingdata"
   ]
  },
  {
   "cell_type": "markdown",
   "id": "24ca5c23-5f62-425d-b7f8-3c0700e458d2",
   "metadata": {
    "tags": []
   },
   "source": [
    "### Orbit error\n",
    "#### Compute the reference global mean SSH over 20 years 1996-2016"
   ]
  },
  {
   "cell_type": "code",
   "execution_count": null,
   "id": "c908bb28-e931-4eba-ba19-bf22cf8361e9",
   "metadata": {},
   "outputs": [],
   "source": [
    "# ECCO_alongtrack_files=[]\n",
    "# for year in range(1996,2017):\n",
    "#     ECCO_alongtrack_files_tmp = list(alongtrack_file_dir_orbiterror.glob('*ECCO_V4r4_alongtrack_SSH_*'+str(year)+'*nc'))\n",
    "#     ECCO_alongtrack_files.extend(ECCO_alongtrack_files_tmp)\n",
    "# print(np.sort(ECCO_alongtrack_files))"
   ]
  },
  {
   "cell_type": "code",
   "execution_count": null,
   "id": "ced18202-cd04-48d9-b389-fe0f10c2b2f3",
   "metadata": {},
   "outputs": [],
   "source": [
    "# alongtrack = xr.open_mfdataset(\n",
    "#         paths=ECCO_alongtrack_files,\n",
    "#         combine='nested',\n",
    "#         concat_dim='i',\n",
    "#         decode_cf=True,\n",
    "#         compat='override',\n",
    "#         coords='minimal',\n",
    "#         chunks={'time': 1}  \n",
    "#     )  \n",
    "# alongtrack"
   ]
  },
  {
   "cell_type": "code",
   "execution_count": null,
   "id": "da319620-65a2-4cc7-9a65-a399fc3b63f8",
   "metadata": {
    "tags": []
   },
   "outputs": [],
   "source": [
    "# ref_mean_orbiterror=alongtrack.SSH_at_xy.mean(skipna=True).values\n",
    "# print(ref_mean_orbiterror)"
   ]
  },
  {
   "cell_type": "markdown",
   "id": "f268cfbd-b4d1-44df-afb6-65526b0d0aa0",
   "metadata": {},
   "source": [
    "#### Compute GMSL 10-day time series"
   ]
  },
  {
   "cell_type": "code",
   "execution_count": null,
   "id": "dc13c08a-1d24-4f40-a50f-7d40fe6970dd",
   "metadata": {},
   "outputs": [],
   "source": [
    "ECCO_alongtrack_files = list(alongtrack_file_dir_orbiterror.glob('*ECCO_V4r4_alongtrack_SSH_*nc'))\n",
    "ECCO_alongtrack_files=np.sort(ECCO_alongtrack_files)\n",
    "print(ECCO_alongtrack_files)"
   ]
  },
  {
   "cell_type": "code",
   "execution_count": null,
   "id": "86ef019d-d44a-4dcc-807d-0a82ce575c8e",
   "metadata": {},
   "outputs": [],
   "source": [
    "alongtrack_gmsl_tmp=[]\n",
    "for i in np.arange(0,len(ECCO_alongtrack_files),10):\n",
    "    ECCO_alongtrack_files_cycle=ECCO_alongtrack_files[i:i+10]\n",
    "    alongtrack = xr.open_mfdataset(\n",
    "            paths=ECCO_alongtrack_files_cycle,\n",
    "            combine='nested',\n",
    "            concat_dim='i',\n",
    "            decode_cf=True,\n",
    "            compat='override',\n",
    "            coords='minimal',\n",
    "            chunks={'time': 1}  \n",
    "        )  \n",
    "    alongtrack=alongtrack.where((np.abs(alongtrack.lat) <= 66))\n",
    "    SSH_at_xy_ano=alongtrack.SSH_at_xy\n",
    "    # SSH_at_xy_ano=alongtrack.SSH_at_xy-ref_mean\n",
    "    # alpha = np.arcsin(np.abs(np.cos(incidence)/np.cos(np.deg2rad(alongtrack.lat))))\n",
    "    # gamma = np.arctan(np.abs( (Vs*np.sin(alpha)-Ve*np.cos(np.deg2rad(alongtrack.lat))) / (Vs*np.cos(alpha)) ))\n",
    "    # beta = np.pi/2 - gamma\n",
    "    # w=np.sin(beta)/np.sin(beta0) #From Nerem 1995\n",
    "    w=np.cos(np.deg2rad(alongtrack.lat))\n",
    "    w=w.where(np.isfinite(SSH_at_xy_ano))\n",
    "    alongtrack_gmsl_tmp.append((SSH_at_xy_ano*w).sum(skipna=True)/w.sum(skipna=True))\n",
    "alongtrack_gmsl_orbiterror = xr.concat(alongtrack_gmsl_tmp, dim='time')"
   ]
  },
  {
   "cell_type": "code",
   "execution_count": null,
   "id": "8e350c0e-29e6-49d5-9213-63772f24b9fb",
   "metadata": {},
   "outputs": [],
   "source": [
    "alongtrack_gmsl_orbiterror=alongtrack_gmsl_orbiterror.drop('cycle_day')\n",
    "alongtrack_gmsl_orbiterror=alongtrack_gmsl_orbiterror.drop('delta_days')\n",
    "alongtrack_gmsl_orbiterror.name = 'gmsl_ecco_alongtrack'\n",
    "alongtrack_gmsl_orbiterror.attrs['units'] = 'm'\n",
    "alongtrack_gmsl_orbiterror.attrs['summary'] = '10-day GMSL time series computed on the alongtrack ECCO data with orbit error, referenced to a 1996-2016 global mean SSH'\n",
    "alongtrack_gmsl_orbiterror.time.attrs['long_name'] = 'first day of the 10-day average'\n",
    "alongtrack_gmsl_orbiterror['time']=alongtrack_gmsl_orbiterror.time+(4*24*60*60*10**(9))\n",
    "alongtrack_gmsl_orbiterror"
   ]
  },
  {
   "cell_type": "markdown",
   "id": "54768e6c-28d2-4831-9ae4-a1b7669fa634",
   "metadata": {
    "tags": []
   },
   "source": [
    "### 3 errors: Random noise + missing data + orbit error\n",
    "#### Compute the reference global mean SSH over 20 years 1996-2016"
   ]
  },
  {
   "cell_type": "code",
   "execution_count": null,
   "id": "7bac5779-dcc6-4257-beac-9cc881cff6b2",
   "metadata": {},
   "outputs": [],
   "source": [
    "# ECCO_alongtrack_files=[]\n",
    "# for year in range(1996,2017):\n",
    "#     ECCO_alongtrack_files_tmp = list(alongtrack_file_dir_orbiterror.glob('*ECCO_V4r4_alongtrack_SSH_*'+str(year)+'*nc'))\n",
    "#     ECCO_alongtrack_files.extend(ECCO_alongtrack_files_tmp)\n",
    "# print(np.sort(ECCO_alongtrack_files))"
   ]
  },
  {
   "cell_type": "code",
   "execution_count": null,
   "id": "d0d41fd9-02e4-4ef9-869e-71dd4a672707",
   "metadata": {},
   "outputs": [],
   "source": [
    "# alongtrack = xr.open_mfdataset(\n",
    "#         paths=ECCO_alongtrack_files,\n",
    "#         combine='nested',\n",
    "#         concat_dim='i',\n",
    "#         decode_cf=True,\n",
    "#         compat='override',\n",
    "#         coords='minimal',\n",
    "#         chunks={'time': 1}  \n",
    "#     )  \n",
    "# alongtrack"
   ]
  },
  {
   "cell_type": "code",
   "execution_count": null,
   "id": "3c60d32a-ac00-48c0-98a8-f55febc48f96",
   "metadata": {
    "tags": []
   },
   "outputs": [],
   "source": [
    "# ref_mean_3errors=alongtrack.SSH_at_xy.mean(skipna=True).values\n",
    "# print(ref_mean_3errors)"
   ]
  },
  {
   "cell_type": "markdown",
   "id": "6090250b-1cbf-4d02-a0ed-6d2ab065b530",
   "metadata": {},
   "source": [
    "#### Compute GMSL 10-day time series"
   ]
  },
  {
   "cell_type": "code",
   "execution_count": null,
   "id": "312a078f-568f-4416-a259-3ecb2ec6db75",
   "metadata": {},
   "outputs": [],
   "source": [
    "ECCO_alongtrack_files = list(alongtrack_file_dir_3errors.glob('*ECCO_V4r4_alongtrack_SSH_*nc'))\n",
    "ECCO_alongtrack_files=np.sort(ECCO_alongtrack_files)\n",
    "print(ECCO_alongtrack_files)"
   ]
  },
  {
   "cell_type": "code",
   "execution_count": null,
   "id": "ea88db3f-a8d6-4bc1-8822-338a00f76bbb",
   "metadata": {},
   "outputs": [],
   "source": [
    "alongtrack_gmsl_tmp=[]\n",
    "for i in np.arange(0,len(ECCO_alongtrack_files),10):\n",
    "    ECCO_alongtrack_files_cycle=ECCO_alongtrack_files[i:i+10]\n",
    "    alongtrack = xr.open_mfdataset(\n",
    "            paths=ECCO_alongtrack_files_cycle,\n",
    "            combine='nested',\n",
    "            concat_dim='i',\n",
    "            decode_cf=True,\n",
    "            compat='override',\n",
    "            coords='minimal',\n",
    "            chunks={'time': 1}  \n",
    "        )  \n",
    "    alongtrack=alongtrack.where((np.abs(alongtrack.lat) <= 66))\n",
    "    SSH_at_xy_ano=alongtrack.SSH_at_xy\n",
    "    # SSH_at_xy_ano=alongtrack.SSH_at_xy-ref_mean\n",
    "    # alpha = np.arcsin(np.abs(np.cos(incidence)/np.cos(np.deg2rad(alongtrack.lat))))\n",
    "    # gamma = np.arctan(np.abs( (Vs*np.sin(alpha)-Ve*np.cos(np.deg2rad(alongtrack.lat))) / (Vs*np.cos(alpha)) ))\n",
    "    # beta = np.pi/2 - gamma\n",
    "    # w=np.sin(beta)/np.sin(beta0) #From Nerem 1995\n",
    "    w=np.cos(np.deg2rad(alongtrack.lat))\n",
    "    w=w.where(np.isfinite(SSH_at_xy_ano))\n",
    "    alongtrack_gmsl_tmp.append((SSH_at_xy_ano*w).sum(skipna=True)/w.sum(skipna=True))\n",
    "alongtrack_gmsl_3errors = xr.concat(alongtrack_gmsl_tmp, dim='time')"
   ]
  },
  {
   "cell_type": "code",
   "execution_count": null,
   "id": "7904e7f8-a046-4981-ae02-e702433115c5",
   "metadata": {},
   "outputs": [],
   "source": [
    "alongtrack_gmsl_3errors=alongtrack_gmsl_3errors.drop('cycle_day')\n",
    "alongtrack_gmsl_3errors=alongtrack_gmsl_3errors.drop('delta_days')\n",
    "alongtrack_gmsl_3errors.name = 'gmsl_ecco_alongtrack'\n",
    "alongtrack_gmsl_3errors.attrs['units'] = 'm'\n",
    "alongtrack_gmsl_3errors.attrs['summary'] = '10-day GMSL time series computed on the alongtrack ECCO data with 3 errors, referenced to a 1996-2016 global mean SSH'\n",
    "alongtrack_gmsl_3errors.time.attrs['long_name'] = 'first day of the 10-day average'\n",
    "alongtrack_gmsl_3errors['time']=alongtrack_gmsl_3errors.time+(4*24*60*60*10**(9))\n",
    "alongtrack_gmsl_3errors"
   ]
  },
  {
   "cell_type": "markdown",
   "id": "85ac906a-2355-43fd-a311-b4516839fb85",
   "metadata": {},
   "source": [
    "### Save to Disk"
   ]
  },
  {
   "cell_type": "code",
   "execution_count": null,
   "id": "7ff5f9f6-a8c3-4e72-8d32-64ae55fe9a98",
   "metadata": {},
   "outputs": [],
   "source": [
    "fname = output_dir / ('GMSL_ECCO_alongtrack_19922017_noerror_simpleweight_nomean.nc')\n",
    "alongtrack_gmsl.to_netcdf(fname)"
   ]
  },
  {
   "cell_type": "code",
   "execution_count": null,
   "id": "22e91608-d90d-4410-943b-8aae2b4ad652",
   "metadata": {},
   "outputs": [],
   "source": [
    "fname = output_dir / ('GMSL_ECCO_alongtrack_19922017_randomnoise_simpleweight_nomean.nc')\n",
    "alongtrack_gmsl_randomnoise.to_netcdf(fname)"
   ]
  },
  {
   "cell_type": "code",
   "execution_count": null,
   "id": "e0669644-1017-4745-b83d-55e77294fd96",
   "metadata": {},
   "outputs": [],
   "source": [
    "fname = output_dir / ('GMSL_ECCO_alongtrack_19922017_missingdata_simpleweight_nomean.nc')\n",
    "alongtrack_gmsl_missingdata.to_netcdf(fname)"
   ]
  },
  {
   "cell_type": "code",
   "execution_count": null,
   "id": "13415575-0d3e-4f66-9e72-00c8984349e4",
   "metadata": {},
   "outputs": [],
   "source": [
    "fname = output_dir / ('GMSL_ECCO_alongtrack_19922017_orbiterror_simpleweight_nomean.nc')\n",
    "alongtrack_gmsl_orbiterror.to_netcdf(fname)"
   ]
  },
  {
   "cell_type": "code",
   "execution_count": null,
   "id": "2e66f6a9-f54c-42ea-bd6f-efb3e1e725c8",
   "metadata": {},
   "outputs": [],
   "source": [
    "fname = output_dir / ('GMSL_ECCO_alongtrack_19922017_3errors_simpleweight_nomean.nc')\n",
    "alongtrack_gmsl_3errors.to_netcdf(fname)"
   ]
  },
  {
   "cell_type": "markdown",
   "id": "ad4e8a01-a9ce-4b65-9ea9-86c77595ec98",
   "metadata": {},
   "source": [
    "# Compute GMSL from ECCO synthetic grids"
   ]
  },
  {
   "cell_type": "markdown",
   "id": "36235adb-4ef0-4156-9d12-c877b08b78ca",
   "metadata": {},
   "source": [
    "### No error"
   ]
  },
  {
   "cell_type": "code",
   "execution_count": null,
   "id": "e3c61f53-fa82-4458-86b7-557aa533ac41",
   "metadata": {
    "tags": []
   },
   "outputs": [],
   "source": [
    "# After running Kevin's code simple gridder.py, grids are generating\n",
    "ECCO_grids_files = list(grids_file_dir.glob('*SSHA_gridded_*nc'))\n",
    "ECCO_grids_files=np.sort(ECCO_grids_files)\n",
    "print(ECCO_grids_files[0:5])\n",
    "print('...')\n",
    "print(ECCO_grids_files[-5:-1])"
   ]
  },
  {
   "cell_type": "code",
   "execution_count": null,
   "id": "be7e795b-3e91-467e-95fc-3fc43718ad4d",
   "metadata": {
    "tags": []
   },
   "outputs": [],
   "source": [
    "grids = xr.open_mfdataset(\n",
    "        paths=ECCO_grids_files,\n",
    "        combine='nested',\n",
    "        concat_dim='time',\n",
    "        decode_cf=True,\n",
    "        compat='override',\n",
    "        coords='minimal',\n",
    "        chunks={'time': 1}  \n",
    "    )   \n",
    "grids"
   ]
  },
  {
   "cell_type": "code",
   "execution_count": null,
   "id": "e31e9c54-ceaa-4025-8733-3d14e9b964fe",
   "metadata": {
    "tags": []
   },
   "outputs": [],
   "source": [
    "grids=grids.where(np.array(grids.counts)>=100)"
   ]
  },
  {
   "cell_type": "code",
   "execution_count": null,
   "id": "0b1ce4fc-a3fe-4b3d-a8f3-ed0e195c22ff",
   "metadata": {
    "tags": []
   },
   "outputs": [],
   "source": [
    "[LO,LA]=np.meshgrid(grids.longitude,grids.latitude)\n",
    "weights = np.cos(np.deg2rad(LA))\n",
    "weights=np.tile(weights, [grids.SSHA.shape[0], 1, 1])\n",
    "weights[np.where(~np.isfinite(grids.SSHA))]=np.nan\n",
    "ssh_weighted_mean=np.nansum(grids.SSHA*weights,axis=(1,2))/np.nansum(weights,axis=(1,2))"
   ]
  },
  {
   "cell_type": "code",
   "execution_count": null,
   "id": "50b09be4-d9bb-41d1-ab71-2832293910c5",
   "metadata": {
    "tags": []
   },
   "outputs": [],
   "source": [
    "# make new DataArray objects\n",
    "gmsl_grids = xr.DataArray(ssh_weighted_mean, dims=['time'])\n",
    "gmsl_grids = gmsl_grids.assign_coords({'time':grids.time})\n",
    "gmsl_grids.name = 'gmsl_grids'\n",
    "gmsl_grids"
   ]
  },
  {
   "cell_type": "markdown",
   "id": "590522fa-1941-4147-908f-eed98b5ccc8c",
   "metadata": {},
   "source": [
    "### Random noise"
   ]
  },
  {
   "cell_type": "code",
   "execution_count": null,
   "id": "0753908a-d312-469b-9f14-b6b900e079bd",
   "metadata": {
    "tags": []
   },
   "outputs": [],
   "source": [
    "# After running Kevin's code simple gridder.py, grids are generating\n",
    "ECCO_grids_files = list(grids_file_dir_randomnoise.glob('*SSHA_gridded_*nc'))\n",
    "ECCO_grids_files=np.sort(ECCO_grids_files)\n",
    "print(ECCO_grids_files[0:5])\n",
    "print('...')\n",
    "print(ECCO_grids_files[-5:-1])"
   ]
  },
  {
   "cell_type": "code",
   "execution_count": null,
   "id": "494bbd01-6d94-4815-850f-f637d1087f55",
   "metadata": {
    "tags": []
   },
   "outputs": [],
   "source": [
    "grids = xr.open_mfdataset(\n",
    "        paths=ECCO_grids_files,\n",
    "        combine='nested',\n",
    "        concat_dim='time',\n",
    "        decode_cf=True,\n",
    "        compat='override',\n",
    "        coords='minimal',\n",
    "        chunks={'time': 1}  \n",
    "    )   \n",
    "grids"
   ]
  },
  {
   "cell_type": "code",
   "execution_count": null,
   "id": "cec870aa-6014-4f0c-b9a5-448d202332ab",
   "metadata": {
    "tags": []
   },
   "outputs": [],
   "source": [
    "grids=grids.where(np.array(grids.counts)>=100)"
   ]
  },
  {
   "cell_type": "code",
   "execution_count": null,
   "id": "a5c28f5f-757c-4bdb-ada4-8828f366a808",
   "metadata": {
    "tags": []
   },
   "outputs": [],
   "source": [
    "# weights = np.cos(np.deg2rad(grids.latitude))\n",
    "# weights.name = \"weights\"\n",
    "# weights"
   ]
  },
  {
   "cell_type": "code",
   "execution_count": null,
   "id": "753ae1dc-9774-45e5-871e-47263b1c70f6",
   "metadata": {
    "tags": []
   },
   "outputs": [],
   "source": [
    "# ssh_weighted = grids.weighted(weights,skipna=True)\n",
    "# ssh_weighted"
   ]
  },
  {
   "cell_type": "code",
   "execution_count": null,
   "id": "e2cedff2-69c1-4b0d-8208-b407907d02b3",
   "metadata": {
    "tags": []
   },
   "outputs": [],
   "source": [
    "# ssh_weighted_mean_randomnoise = ssh_weighted.mean((\"longitude\", \"latitude\"),skipna=True)\n",
    "# ssh_weighted_mean_randomnoise.SSHA"
   ]
  },
  {
   "cell_type": "code",
   "execution_count": null,
   "id": "745a0a46-3ce4-4512-8b2a-16af81c368f1",
   "metadata": {
    "tags": []
   },
   "outputs": [],
   "source": [
    "[LO,LA]=np.meshgrid(grids.longitude,grids.latitude)\n",
    "weights = np.cos(np.deg2rad(LA))\n",
    "weights=np.tile(weights, [grids.SSHA.shape[0], 1, 1])\n",
    "weights[np.where(~np.isfinite(grids.SSHA))]=np.nan\n",
    "ssh_weighted_mean_randomnoise=np.nansum(grids.SSHA*weights,axis=(1,2))/np.nansum(weights,axis=(1,2))"
   ]
  },
  {
   "cell_type": "code",
   "execution_count": null,
   "id": "a726038c-1393-463b-8114-72f1d82f9822",
   "metadata": {
    "tags": []
   },
   "outputs": [],
   "source": [
    "# make new DataArray objects\n",
    "gmsl_grids_randomnoise = xr.DataArray(ssh_weighted_mean_randomnoise, dims=['time'])\n",
    "gmsl_grids_randomnoise = gmsl_grids_randomnoise.assign_coords({'time':grids.time})\n",
    "gmsl_grids_randomnoise.name = 'gmsl_grids'\n",
    "gmsl_grids_randomnoise"
   ]
  },
  {
   "cell_type": "markdown",
   "id": "dc61d097-2599-46bd-96d3-f362faf4f0f3",
   "metadata": {
    "tags": []
   },
   "source": [
    "### Missing data"
   ]
  },
  {
   "cell_type": "code",
   "execution_count": null,
   "id": "a1fdf6b9-f7e3-4216-97af-625fa98010e7",
   "metadata": {
    "tags": []
   },
   "outputs": [],
   "source": [
    "# After running Kevin's code simple gridder.py, grids are generating\n",
    "ECCO_grids_files = list(grids_file_dir_missingdata.glob('*SSHA_gridded_*nc'))\n",
    "ECCO_grids_files=np.sort(ECCO_grids_files)\n",
    "print(ECCO_grids_files[0:5])\n",
    "print('...')\n",
    "print(ECCO_grids_files[-5:-1])"
   ]
  },
  {
   "cell_type": "code",
   "execution_count": null,
   "id": "06d2746d-5954-482e-9737-c9ebff398845",
   "metadata": {
    "tags": []
   },
   "outputs": [],
   "source": [
    "grids = xr.open_mfdataset(\n",
    "        paths=ECCO_grids_files,\n",
    "        combine='nested',\n",
    "        concat_dim='time',\n",
    "        decode_cf=True,\n",
    "        compat='override',\n",
    "        coords='minimal',\n",
    "        chunks={'time': 1}  \n",
    "    )   \n",
    "grids"
   ]
  },
  {
   "cell_type": "code",
   "execution_count": null,
   "id": "f00f7e59-4295-4693-861f-fc1c81018ac6",
   "metadata": {
    "tags": []
   },
   "outputs": [],
   "source": [
    "grids=grids.where(np.array(grids.counts)>=100)"
   ]
  },
  {
   "cell_type": "code",
   "execution_count": null,
   "id": "65b1d1bf-f319-4cbb-8e2a-fbcffc14ec53",
   "metadata": {
    "tags": []
   },
   "outputs": [],
   "source": [
    "# weights = np.cos(np.deg2rad(grids.latitude))\n",
    "# weights.name = \"weights\"\n",
    "# weights"
   ]
  },
  {
   "cell_type": "code",
   "execution_count": null,
   "id": "109be13a-f1c9-4888-821d-818522cf4d12",
   "metadata": {
    "tags": []
   },
   "outputs": [],
   "source": [
    "# ssh_weighted = grids.weighted(weights,skipna=True)\n",
    "# ssh_weighted"
   ]
  },
  {
   "cell_type": "code",
   "execution_count": null,
   "id": "25f9468f-faee-4cf2-8680-0a9f4667e6bf",
   "metadata": {
    "tags": []
   },
   "outputs": [],
   "source": [
    "# ssh_weighted_mean_missingdata = ssh_weighted.mean((\"longitude\", \"latitude\"),skipna=True)\n",
    "# ssh_weighted_mean_missingdata.SSHA"
   ]
  },
  {
   "cell_type": "code",
   "execution_count": null,
   "id": "5ffca359-0521-4dcc-b595-5aa4030a7744",
   "metadata": {
    "tags": []
   },
   "outputs": [],
   "source": [
    "[LO,LA]=np.meshgrid(grids.longitude,grids.latitude)\n",
    "weights = np.cos(np.deg2rad(LA))\n",
    "weights=np.tile(weights, [grids.SSHA.shape[0], 1, 1])\n",
    "weights[np.where(~np.isfinite(grids.SSHA))]=np.nan\n",
    "ssh_weighted_mean_missingdata=np.nansum(grids.SSHA*weights,axis=(1,2))/np.nansum(weights,axis=(1,2))"
   ]
  },
  {
   "cell_type": "code",
   "execution_count": null,
   "id": "2cc4a495-787f-4388-9bd3-7f70ebd8d84c",
   "metadata": {
    "tags": []
   },
   "outputs": [],
   "source": [
    "# make new DataArray objects\n",
    "gmsl_grids_missingdata = xr.DataArray(ssh_weighted_mean_missingdata, dims=['time'])\n",
    "gmsl_grids_missingdata = gmsl_grids_missingdata.assign_coords({'time':grids.time})\n",
    "gmsl_grids_missingdata.name = 'gmsl_grids'\n",
    "gmsl_grids_missingdata"
   ]
  },
  {
   "cell_type": "markdown",
   "id": "d9929619-7d87-4dce-a102-94d502542ba2",
   "metadata": {
    "tags": []
   },
   "source": [
    "### Orbit Error"
   ]
  },
  {
   "cell_type": "code",
   "execution_count": null,
   "id": "7755ced7-d6c9-4f09-a1f5-5050500697d5",
   "metadata": {
    "tags": []
   },
   "outputs": [],
   "source": [
    "# After running Kevin's code simple gridder.py, grids are generating\n",
    "ECCO_grids_files = list(grids_file_dir_orbiterror.glob('*SSHA_gridded_*nc'))\n",
    "ECCO_grids_files=np.sort(ECCO_grids_files)\n",
    "print(ECCO_grids_files[0:5])\n",
    "print('...')\n",
    "print(ECCO_grids_files[-5:-1])"
   ]
  },
  {
   "cell_type": "code",
   "execution_count": null,
   "id": "bf033331-1922-4b0b-ac45-887cf2a5e1a4",
   "metadata": {
    "tags": []
   },
   "outputs": [],
   "source": [
    "grids = xr.open_mfdataset(\n",
    "        paths=ECCO_grids_files,\n",
    "        combine='nested',\n",
    "        concat_dim='time',\n",
    "        decode_cf=True,\n",
    "        compat='override',\n",
    "        coords='minimal',\n",
    "        chunks={'time': 1}  \n",
    "    )   \n",
    "grids"
   ]
  },
  {
   "cell_type": "code",
   "execution_count": null,
   "id": "08bbf5ec-5dea-48e7-b2b8-d5f0899f1a5b",
   "metadata": {
    "tags": []
   },
   "outputs": [],
   "source": [
    "grids=grids.where(np.array(grids.counts)>=100)"
   ]
  },
  {
   "cell_type": "code",
   "execution_count": null,
   "id": "fc5436cc-b4e2-4afa-acf6-8f9b60051294",
   "metadata": {
    "tags": []
   },
   "outputs": [],
   "source": [
    "# weights = np.cos(np.deg2rad(grids.latitude))\n",
    "# weights.name = \"weights\"\n",
    "# weights"
   ]
  },
  {
   "cell_type": "code",
   "execution_count": null,
   "id": "ef2b1c09-cbfc-48ee-b224-d55fa8658b82",
   "metadata": {
    "tags": []
   },
   "outputs": [],
   "source": [
    "# ssh_weighted = grids.weighted(weights,skipna=True)\n",
    "# ssh_weighted"
   ]
  },
  {
   "cell_type": "code",
   "execution_count": null,
   "id": "cae17c25-674d-411c-ae80-e475aa310f55",
   "metadata": {
    "tags": []
   },
   "outputs": [],
   "source": [
    "# ssh_weighted_mean_orbiterror = ssh_weighted.mean((\"longitude\", \"latitude\"),skipna=True)\n",
    "# ssh_weighted_mean_orbiterror.SSHA"
   ]
  },
  {
   "cell_type": "code",
   "execution_count": null,
   "id": "668508bc-ad84-4a82-99f0-f244664bf575",
   "metadata": {
    "tags": []
   },
   "outputs": [],
   "source": [
    "[LO,LA]=np.meshgrid(grids.longitude,grids.latitude)\n",
    "weights = np.cos(np.deg2rad(LA))\n",
    "weights=np.tile(weights, [grids.SSHA.shape[0], 1, 1])\n",
    "weights[np.where(~np.isfinite(grids.SSHA))]=np.nan\n",
    "ssh_weighted_mean_orbiterror=np.nansum(grids.SSHA*weights,axis=(1,2))/np.nansum(weights,axis=(1,2))"
   ]
  },
  {
   "cell_type": "code",
   "execution_count": null,
   "id": "7577e397-331a-424c-8c33-dcbd81c02c53",
   "metadata": {
    "tags": []
   },
   "outputs": [],
   "source": [
    "# make new DataArray objects\n",
    "gmsl_grids_orbiterror = xr.DataArray(ssh_weighted_mean_orbiterror, dims=['time'])\n",
    "gmsl_grids_orbiterror = gmsl_grids_orbiterror.assign_coords({'time':grids.time})\n",
    "gmsl_grids_orbiterror.name = 'gmsl_grids'\n",
    "gmsl_grids_orbiterror"
   ]
  },
  {
   "cell_type": "markdown",
   "id": "ff8caf42-25f0-4894-a48c-35b9faa77f0a",
   "metadata": {
    "tags": []
   },
   "source": [
    "### 3 errors: random noise + missing data + orbit error"
   ]
  },
  {
   "cell_type": "code",
   "execution_count": null,
   "id": "527dfdb8-e11c-4fbb-8cd7-a1dc3d1ca883",
   "metadata": {
    "tags": []
   },
   "outputs": [],
   "source": [
    "# After running Kevin's code simple gridder.py, grids are generating\n",
    "ECCO_grids_files = list(grids_file_dir_3errors.glob('*SSHA_gridded*nc'))\n",
    "ECCO_grids_files=np.sort(ECCO_grids_files)\n",
    "print(ECCO_grids_files[0:5])\n",
    "print('...')\n",
    "print(ECCO_grids_files[-5:-1])"
   ]
  },
  {
   "cell_type": "code",
   "execution_count": null,
   "id": "ed7db069-b938-45fa-895a-f7b5523676fa",
   "metadata": {
    "tags": []
   },
   "outputs": [],
   "source": [
    "grids = xr.open_mfdataset(\n",
    "        paths=ECCO_grids_files,\n",
    "        combine='nested',\n",
    "        concat_dim='time',\n",
    "        decode_cf=True,\n",
    "        compat='override',\n",
    "        coords='minimal',\n",
    "        chunks={'time': 1}  \n",
    "    )   \n",
    "grids"
   ]
  },
  {
   "cell_type": "code",
   "execution_count": null,
   "id": "baa8cc9d-3de1-4ced-afa1-05aa07d14816",
   "metadata": {
    "tags": []
   },
   "outputs": [],
   "source": [
    "grids=grids.where(np.array(grids.counts)>=100"
   ]
  },
  {
   "cell_type": "code",
   "execution_count": null,
   "id": "ef4057f8-dab1-4fc5-b36f-8aecf6cf8170",
   "metadata": {
    "tags": []
   },
   "outputs": [],
   "source": [
    "# weights = np.cos(np.deg2rad(grids.latitude))\n",
    "# weights.name = \"weights\"\n",
    "# weights"
   ]
  },
  {
   "cell_type": "code",
   "execution_count": null,
   "id": "a511df87-8d54-4db2-a29a-d902fd5e70eb",
   "metadata": {
    "tags": []
   },
   "outputs": [],
   "source": [
    "# ssh_weighted = grids.weighted(weights,skipna=True)\n",
    "# ssh_weighted"
   ]
  },
  {
   "cell_type": "code",
   "execution_count": null,
   "id": "3c4a733c-cd4a-448d-aba1-54f488a42d13",
   "metadata": {
    "tags": []
   },
   "outputs": [],
   "source": [
    "# ssh_weighted_mean_3errors = ssh_weighted.mean((\"longitude\", \"latitude\"),skipna=True)\n",
    "# ssh_weighted_mean_3errors.SSHA"
   ]
  },
  {
   "cell_type": "code",
   "execution_count": null,
   "id": "dd7f5cff-afc8-4ea8-8fc9-88bbe7a775b0",
   "metadata": {
    "tags": []
   },
   "outputs": [],
   "source": [
    "[LO,LA]=np.meshgrid(grids.longitude,grids.latitude)\n",
    "weights = np.cos(np.deg2rad(LA))\n",
    "weights=np.tile(weights, [grids.SSHA.shape[0], 1, 1])\n",
    "weights[np.where(~np.isfinite(grids.SSHA))]=np.nan\n",
    "ssh_weighted_mean_3errors=np.nansum(grids.SSHA*weights,axis=(1,2))/np.nansum(weights,axis=(1,2))"
   ]
  },
  {
   "cell_type": "code",
   "execution_count": null,
   "id": "ec6c4b95-5729-48a8-8fa9-e6c5b3984808",
   "metadata": {
    "tags": []
   },
   "outputs": [],
   "source": [
    "# make new DataArray objects\n",
    "gmsl_grids_3errors = xr.DataArray(ssh_weighted_mean_3errors, dims=['time'])\n",
    "gmsl_grids_3errors = gmsl_grids_3errors.assign_coords({'time':grids.time})\n",
    "gmsl_grids_3errors.name = 'gmsl_grids'\n",
    "gmsl_grids_3errors"
   ]
  },
  {
   "cell_type": "markdown",
   "id": "a95232a2-1b37-409a-9c2d-c535a8bbfae0",
   "metadata": {},
   "source": [
    "### Save to Disk"
   ]
  },
  {
   "cell_type": "code",
   "execution_count": null,
   "id": "dc52bdad-17d7-4822-849a-1b4fe0be0421",
   "metadata": {},
   "outputs": [],
   "source": [
    "fname = output_dir / ('GMSL_grids_19922017_noerror_100points.nc')\n",
    "gmsl_grids.to_netcdf(fname)"
   ]
  },
  {
   "cell_type": "code",
   "execution_count": null,
   "id": "a32952f1-0189-47f9-9d2b-0e3dd6403e74",
   "metadata": {},
   "outputs": [],
   "source": [
    "fname = output_dir / ('GMSL_grids_19922017_randomnoise_100points.nc')\n",
    "gmsl_grids_randomnoise.to_netcdf(fname)"
   ]
  },
  {
   "cell_type": "code",
   "execution_count": null,
   "id": "0fc2163b-a0a7-4222-85b3-a247bb3add05",
   "metadata": {},
   "outputs": [],
   "source": [
    "fname = output_dir / ('GMSL_grids_19922017_missingdata_100points.nc')\n",
    "gmsl_grids_missingdata.to_netcdf(fname)"
   ]
  },
  {
   "cell_type": "code",
   "execution_count": null,
   "id": "f7ddd6b9-fee2-4daf-92e3-3b845c43136a",
   "metadata": {},
   "outputs": [],
   "source": [
    "fname = output_dir / ('GMSL_grids_19922017_orbiterror_100points.nc')\n",
    "gmsl_grids_orbiterror.to_netcdf(fname)"
   ]
  },
  {
   "cell_type": "code",
   "execution_count": null,
   "id": "0007a18c-0f6e-4547-96b5-8a47e1a71812",
   "metadata": {},
   "outputs": [],
   "source": [
    "fname = output_dir / ('GMSL_grids_19922017_3errors_100points.nc')\n",
    "gmsl_grids_3errors.to_netcdf(fname)"
   ]
  },
  {
   "cell_type": "markdown",
   "id": "67e21c73-a32b-42c3-b1cc-73be4613d813",
   "metadata": {},
   "source": [
    "# Compute GMSL from daily ECCO output"
   ]
  },
  {
   "cell_type": "markdown",
   "id": "c6e8a014-ab1c-4a64-a86c-2a90645890b0",
   "metadata": {},
   "source": [
    "### Compute the ocean area, needed to compute GMSL from ECCO"
   ]
  },
  {
   "cell_type": "code",
   "execution_count": null,
   "id": "796b8a64-2ca2-4853-ab11-74e89aa56808",
   "metadata": {},
   "outputs": [],
   "source": [
    "ECCO_grid = xr.open_dataset(str(main_dir) + '/GRID_GEOMETRY_ECCO_V4r4_latlon_0p50deg.nc')\n",
    "ECCO_grid"
   ]
  },
  {
   "cell_type": "code",
   "execution_count": null,
   "id": "e79957a1-7a15-49b0-8e7b-d8f42b4b53f8",
   "metadata": {},
   "outputs": [],
   "source": [
    "# mask land points\n",
    "ECCO_ocean_area = ECCO_grid.area*ECCO_grid.maskC[0,:]\n",
    "ECCO_ocean_area=ECCO_ocean_area.drop('Z')\n",
    "\n",
    "ECCO_total_ocean_area = ECCO_ocean_area.sum(skipna=True).values"
   ]
  },
  {
   "cell_type": "markdown",
   "id": "7269c7a5-a101-475c-bbbd-346c45494fba",
   "metadata": {},
   "source": [
    "### Get the list of ECCO daily data in the cloud"
   ]
  },
  {
   "cell_type": "code",
   "execution_count": null,
   "id": "6ea7b7ba-56d0-4776-95d5-017e897024d7",
   "metadata": {
    "tags": []
   },
   "outputs": [],
   "source": [
    "%%capture\n",
    "import requests\n",
    "\n",
    "def store_aws_keys(endpoint: str=\"https://archive.podaac.earthdata.nasa.gov/s3credentials\"):    \n",
    "    with requests.get(endpoint, \"w\") as r:\n",
    "        accessKeyId, secretAccessKey, sessionToken, expiration = list(r.json().values())\n",
    "\n",
    "    creds ={}\n",
    "    creds['AccessKeyId'] = accessKeyId\n",
    "    creds['SecretAccessKey'] = secretAccessKey\n",
    "    creds['SessionToken'] = sessionToken\n",
    "    creds['expiration'] = expiration\n",
    "    \n",
    "    return creds\n",
    "\n",
    "creds = store_aws_keys()\n",
    "print(creds)"
   ]
  },
  {
   "cell_type": "code",
   "execution_count": null,
   "id": "bec06da7-5a11-4adf-9292-09a1fe110ed7",
   "metadata": {},
   "outputs": [],
   "source": [
    "ShortName = \"ECCO_L4_SSH_05DEG_DAILY_V4R4B\"\n",
    "# Ask PODAAC for the collection id\n",
    "response = requests.get(\n",
    "    url='https://cmr.earthdata.nasa.gov/search/collections.umm_json', \n",
    "    params={'provider': \"POCLOUD\",\n",
    "            'ShortName': ShortName,\n",
    "            'page_size': 1}\n",
    ")\n",
    "ummc = response.json()['items']\n",
    "# ummc\n",
    "# used to work, doesn't work anymore...\n",
    "# ummc = response.json()['items'][0]\n",
    "# ccid = ummc['meta']['concept-id']\n",
    "# print(f'collection id: {ccid}')"
   ]
  },
  {
   "cell_type": "code",
   "execution_count": null,
   "id": "c770a046-8cd3-449c-a647-19fc1dfe5c52",
   "metadata": {},
   "outputs": [],
   "source": [
    "s3 = s3fs.S3FileSystem(\n",
    "    key=creds['AccessKeyId'],\n",
    "    secret=creds['SecretAccessKey'],\n",
    "    token=creds['SessionToken'],\n",
    "    client_kwargs={'region_name':'us-west-2'},\n",
    ")"
   ]
  },
  {
   "cell_type": "code",
   "execution_count": null,
   "id": "d341cf3c-5e35-471f-8042-e5fc3c12d603",
   "metadata": {},
   "outputs": [],
   "source": [
    "# make a S3 'filesystem' object\n",
    "fs = s3fs.S3FileSystem(anon=False,\n",
    "                      key=creds['AccessKeyId'],\n",
    "                      secret=creds['SecretAccessKey'],\n",
    "                      token=creds['SessionToken'])"
   ]
  },
  {
   "cell_type": "markdown",
   "id": "ce3944ba-ef08-4074-8c98-e0e847949ac2",
   "metadata": {},
   "source": [
    "### Read ECCO data from the cloud"
   ]
  },
  {
   "cell_type": "code",
   "execution_count": null,
   "id": "fc770f04-e60e-446a-abcb-0a2aa3eea0fe",
   "metadata": {},
   "outputs": [],
   "source": [
    "ECCO_SSH_files = fs.glob(join(\"podaac-ops-cumulus-protected/\", ShortName, '*.nc'))"
   ]
  },
  {
   "cell_type": "code",
   "execution_count": null,
   "id": "20064647-529c-41ed-8f43-48a7f41477d2",
   "metadata": {},
   "outputs": [],
   "source": [
    "#Load all of the files from AWS S3 using 'direct connection' and combine into a single xarray DataSet object\n",
    "paths=[fs.open(f) for f in ECCO_SSH_files] \n",
    "ECCO_DS_daily = xr.open_mfdataset(\n",
    "    paths=paths,\n",
    "    combine='by_coords',\n",
    "    # concat_dim='time',\n",
    "    decode_cf=True,\n",
    "    coords='minimal',\n",
    "    chunks={'time': 1}  \n",
    ")\n",
    "ECCO_DS_daily.close()\n",
    "ECCO_DS_daily"
   ]
  },
  {
   "cell_type": "code",
   "execution_count": null,
   "id": "9de4b41b-59ce-4d32-9767-5ceb2c4c1e1e",
   "metadata": {},
   "outputs": [],
   "source": [
    "ECCO_DS_10days=ECCO_DS_daily.resample(time=\"10D\",loffset=datetime.timedelta(days=4)).mean()\n",
    "ECCO_DS_10days"
   ]
  },
  {
   "cell_type": "markdown",
   "id": "3740e6c6-d8cf-4218-93e7-e6d17ddf2ae0",
   "metadata": {},
   "source": [
    "### Extract SSH"
   ]
  },
  {
   "cell_type": "code",
   "execution_count": null,
   "id": "2aac5171-adda-4a17-bda3-ee101c13e85f",
   "metadata": {},
   "outputs": [],
   "source": [
    "ECCO_SSH = ECCO_DS_10days.SSH\n",
    "ECCO_SSH"
   ]
  },
  {
   "cell_type": "markdown",
   "id": "06d9cc71-887b-4e8b-9813-868e660cf3db",
   "metadata": {},
   "source": [
    "### Calculate the True daily GMSL from ECCO"
   ]
  },
  {
   "cell_type": "code",
   "execution_count": null,
   "id": "81e5099f-d5db-476d-816b-3355a77da3d5",
   "metadata": {},
   "outputs": [],
   "source": [
    "# first call sets up the calculation in dask\n",
    "# ... \\sum_i [SSH_i x grid cell area_i] / total grid cell area\n",
    "ECCO_global_mean_sea_level = (ECCO_SSH * ECCO_ocean_area).sum(dim=['latitude','longitude'],skipna=True)/ECCO_total_ocean_area\n",
    "\n",
    "# second call actually computes it\n",
    "ECCO_global_mean_sea_level = ECCO_global_mean_sea_level.compute()"
   ]
  },
  {
   "cell_type": "code",
   "execution_count": null,
   "id": "8954fadd-dbef-4c5e-aa87-2e1b59fb6399",
   "metadata": {},
   "outputs": [],
   "source": [
    "ECCO_global_mean_sea_level"
   ]
  },
  {
   "cell_type": "markdown",
   "id": "a9b47d25-35ba-451d-9d50-b7d9cca71f59",
   "metadata": {},
   "source": [
    "### Save to Disk"
   ]
  },
  {
   "cell_type": "code",
   "execution_count": null,
   "id": "2b55bd2d-24f0-4847-a96f-6013ed69c148",
   "metadata": {},
   "outputs": [],
   "source": [
    "ECCO_global_mean_sea_level.name = 'gmsl_ecco'\n",
    "fname = output_dir / ('GMSL_ECCO_dailyfiles_19922017.nc')\n",
    "ECCO_global_mean_sea_level.to_netcdf(fname)"
   ]
  },
  {
   "cell_type": "code",
   "execution_count": null,
   "id": "5b1dadf3-1730-4e1c-a95a-03e06d833826",
   "metadata": {},
   "outputs": [],
   "source": []
  }
 ],
 "metadata": {
  "kernelspec": {
   "display_name": "Python 3 (ipykernel)",
   "language": "python",
   "name": "python3"
  },
  "language_info": {
   "codemirror_mode": {
    "name": "ipython",
    "version": 3
   },
   "file_extension": ".py",
   "mimetype": "text/x-python",
   "name": "python",
   "nbconvert_exporter": "python",
   "pygments_lexer": "ipython3",
   "version": "3.9.12"
  }
 },
 "nbformat": 4,
 "nbformat_minor": 5
}
